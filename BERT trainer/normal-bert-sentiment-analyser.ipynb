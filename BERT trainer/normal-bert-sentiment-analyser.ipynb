{
 "cells": [
  {
   "cell_type": "markdown",
   "id": "2ef06629",
   "metadata": {
    "id": "RS5Q-SAalj9I",
    "papermill": {
     "duration": 0.012182,
     "end_time": "2022-05-28T21:22:09.946545",
     "exception": false,
     "start_time": "2022-05-28T21:22:09.934363",
     "status": "completed"
    },
    "tags": []
   },
   "source": [
    "Setting up enviornment"
   ]
  },
  {
   "cell_type": "code",
   "execution_count": null,
   "id": "72a87cff",
   "metadata": {
    "execution": {
     "iopub.execute_input": "2022-05-28T21:22:09.969713Z",
     "iopub.status.busy": "2022-05-28T21:22:09.968839Z",
     "iopub.status.idle": "2022-05-28T21:22:31.598091Z",
     "shell.execute_reply": "2022-05-28T21:22:31.597145Z"
    },
    "id": "nchhLE-5fmKw",
    "papermill": {
     "duration": 21.643473,
     "end_time": "2022-05-28T21:22:31.600552",
     "exception": false,
     "start_time": "2022-05-28T21:22:09.957079",
     "status": "completed"
    },
    "tags": []
   },
   "outputs": [],
   "source": [
    "!pip install watermark\n",
    "!pip install transformers #==2.8.0"
   ]
  },
  {
   "cell_type": "code",
   "execution_count": 2,
   "id": "ace9cdef",
   "metadata": {
    "execution": {
     "iopub.execute_input": "2022-05-28T21:22:31.622663Z",
     "iopub.status.busy": "2022-05-28T21:22:31.622320Z",
     "iopub.status.idle": "2022-05-28T21:22:37.942254Z",
     "shell.execute_reply": "2022-05-28T21:22:37.941456Z"
    },
    "id": "OGlMs5NXf9JE",
    "outputId": "74559d49-b2fa-4180-b92c-7337e4cbfc1a",
    "papermill": {
     "duration": 6.333236,
     "end_time": "2022-05-28T21:22:37.944418",
     "exception": false,
     "start_time": "2022-05-28T21:22:31.611182",
     "status": "completed"
    },
    "tags": []
   },
   "outputs": [
    {
     "name": "stdout",
     "output_type": "stream",
     "text": [
      "Python implementation: CPython\n",
      "Python version       : 3.7.12\n",
      "IPython version      : 7.33.0\n",
      "\n",
      "numpy       : 1.21.6\n",
      "pandas      : 1.3.5\n",
      "torch       : 1.11.0\n",
      "transformers: 4.18.0\n",
      "\n"
     ]
    }
   ],
   "source": [
    "%reload_ext watermark\n",
    "%watermark -v -p numpy,pandas,torch,transformers"
   ]
  },
  {
   "cell_type": "markdown",
   "id": "d9c8c31e",
   "metadata": {
    "id": "6dDOpnuslQi8",
    "papermill": {
     "duration": 0.010104,
     "end_time": "2022-05-28T21:22:37.965292",
     "exception": false,
     "start_time": "2022-05-28T21:22:37.955188",
     "status": "completed"
    },
    "tags": []
   },
   "source": [
    "Imports and some global settings"
   ]
  },
  {
   "cell_type": "code",
   "execution_count": 3,
   "id": "b12ff9c3",
   "metadata": {
    "execution": {
     "iopub.execute_input": "2022-05-28T21:22:37.987764Z",
     "iopub.status.busy": "2022-05-28T21:22:37.986861Z",
     "iopub.status.idle": "2022-05-28T21:22:38.895104Z",
     "shell.execute_reply": "2022-05-28T21:22:38.894251Z"
    },
    "id": "f3x1DdQPf-lQ",
    "papermill": {
     "duration": 0.92176,
     "end_time": "2022-05-28T21:22:38.897535",
     "exception": false,
     "start_time": "2022-05-28T21:22:37.975775",
     "status": "completed"
    },
    "tags": []
   },
   "outputs": [],
   "source": [
    "# imports and global settings\n",
    "from transformers import AutoTokenizer, AutoModel, AdamW, get_linear_schedule_with_warmup, BertModel, BertTokenizer\n",
    "import torch\n",
    "\n",
    "import numpy as np\n",
    "import pandas as pd\n",
    "import seaborn as sns\n",
    "from pylab import rcParams\n",
    "import matplotlib.pyplot as plt\n",
    "\n",
    "from sklearn.model_selection import train_test_split\n",
    "from sklearn.metrics import classification_report\n",
    "from collections import defaultdict\n",
    "from torch import nn\n",
    "from torch.utils.data import Dataset, DataLoader\n",
    "\n",
    "\n",
    "# settings for plotter\n",
    "sns.set(style='whitegrid', palette='muted', font_scale=1.2)\n",
    "HAPPY_COLORS_PALETTE = [\"#01BEFE\", \"#FFDD00\", \"#FF7D00\", \"#FF006D\", \"#ADFF02\", \"#8F00FF\"]\n",
    "sns.set_palette(sns.color_palette(HAPPY_COLORS_PALETTE))\n",
    "rcParams['figure.figsize'] = 12, 8\n",
    "\n",
    "# to remember if there is Positive/Negative sentiment analysis with/without neutral sentiments\n",
    "isNegativeFound = False\n",
    "isNeutralFound = False\n",
    "isPositiveFound = False\n",
    "SENTIMENT_COUNTER = 0"
   ]
  },
  {
   "cell_type": "code",
   "execution_count": 4,
   "id": "aa96b9be",
   "metadata": {
    "execution": {
     "iopub.execute_input": "2022-05-28T21:22:38.920342Z",
     "iopub.status.busy": "2022-05-28T21:22:38.919537Z",
     "iopub.status.idle": "2022-05-28T21:22:38.977629Z",
     "shell.execute_reply": "2022-05-28T21:22:38.976839Z"
    },
    "id": "gfNpLXZUgS3s",
    "papermill": {
     "duration": 0.071122,
     "end_time": "2022-05-28T21:22:38.979517",
     "exception": false,
     "start_time": "2022-05-28T21:22:38.908395",
     "status": "completed"
    },
    "tags": []
   },
   "outputs": [],
   "source": [
    "RANDOM_SEED = 23052022\n",
    "np.random.seed(RANDOM_SEED)\n",
    "torch.manual_seed(RANDOM_SEED)\n",
    "DEVICE = torch.device(\"cuda:0\" if torch.cuda.is_available() else \"cpu\")"
   ]
  },
  {
   "cell_type": "code",
   "execution_count": 5,
   "id": "97fffbf4",
   "metadata": {
    "execution": {
     "iopub.execute_input": "2022-05-28T21:22:39.001807Z",
     "iopub.status.busy": "2022-05-28T21:22:39.001513Z",
     "iopub.status.idle": "2022-05-28T21:23:35.013091Z",
     "shell.execute_reply": "2022-05-28T21:23:35.012224Z"
    },
    "id": "KUCK9tPU7N5I",
    "outputId": "fcb27442-744f-4442-cd78-5f0a23cfeeb2",
    "papermill": {
     "duration": 56.025459,
     "end_time": "2022-05-28T21:23:35.015439",
     "exception": false,
     "start_time": "2022-05-28T21:22:38.989980",
     "status": "completed"
    },
    "tags": []
   },
   "outputs": [
    {
     "data": {
      "application/vnd.jupyter.widget-view+json": {
       "model_id": "d6b3a9363eaa478bbbfd23b89622e40a",
       "version_major": 2,
       "version_minor": 0
      },
      "text/plain": [
       "Downloading:   0%|          | 0.00/506 [00:00<?, ?B/s]"
      ]
     },
     "metadata": {},
     "output_type": "display_data"
    },
    {
     "data": {
      "application/vnd.jupyter.widget-view+json": {
       "model_id": "19771a140a7d4646906966b6ec6100d1",
       "version_major": 2,
       "version_minor": 0
      },
      "text/plain": [
       "Downloading:   0%|          | 0.00/781k [00:00<?, ?B/s]"
      ]
     },
     "metadata": {},
     "output_type": "display_data"
    },
    {
     "data": {
      "application/vnd.jupyter.widget-view+json": {
       "model_id": "71c20c30a987486d8d5300be63f3cb29",
       "version_major": 2,
       "version_minor": 0
      },
      "text/plain": [
       "Downloading:   0%|          | 0.00/1.57M [00:00<?, ?B/s]"
      ]
     },
     "metadata": {},
     "output_type": "display_data"
    },
    {
     "data": {
      "application/vnd.jupyter.widget-view+json": {
       "model_id": "73b8b54eae074243a192441e56af811d",
       "version_major": 2,
       "version_minor": 0
      },
      "text/plain": [
       "Downloading:   0%|          | 0.00/298 [00:00<?, ?B/s]"
      ]
     },
     "metadata": {},
     "output_type": "display_data"
    },
    {
     "data": {
      "application/vnd.jupyter.widget-view+json": {
       "model_id": "454840c4434947f496538694d6bb8620",
       "version_major": 2,
       "version_minor": 0
      },
      "text/plain": [
       "Downloading:   0%|          | 0.00/520 [00:00<?, ?B/s]"
      ]
     },
     "metadata": {},
     "output_type": "display_data"
    },
    {
     "data": {
      "application/vnd.jupyter.widget-view+json": {
       "model_id": "cc2702d1d3d5457c8fa5f18372ac7618",
       "version_major": 2,
       "version_minor": 0
      },
      "text/plain": [
       "Downloading:   0%|          | 0.00/422M [00:00<?, ?B/s]"
      ]
     },
     "metadata": {},
     "output_type": "display_data"
    },
    {
     "name": "stderr",
     "output_type": "stream",
     "text": [
      "Some weights of the model checkpoint at EMBEDDIA/sloberta were not used when initializing CamembertModel: ['lm_head.dense.bias', 'lm_head.layer_norm.weight', 'lm_head.layer_norm.bias', 'lm_head.decoder.bias', 'lm_head.bias', 'lm_head.decoder.weight', 'lm_head.dense.weight']\n",
      "- This IS expected if you are initializing CamembertModel from the checkpoint of a model trained on another task or with another architecture (e.g. initializing a BertForSequenceClassification model from a BertForPreTraining model).\n",
      "- This IS NOT expected if you are initializing CamembertModel from the checkpoint of a model that you expect to be exactly identical (initializing a BertForSequenceClassification model from a BertForSequenceClassification model).\n",
      "Some weights of CamembertModel were not initialized from the model checkpoint at EMBEDDIA/sloberta and are newly initialized: ['roberta.pooler.dense.weight', 'roberta.pooler.dense.bias']\n",
      "You should probably TRAIN this model on a down-stream task to be able to use it for predictions and inference.\n"
     ]
    }
   ],
   "source": [
    "PRE_TRAINED_MODEL_NAME = 'EMBEDDIA/sloberta'\n",
    "# PRE_TRAINED_MODEL_NAME = 'bert-base-cased'\n",
    "# PRE_TRAINED_MODEL_NAME = 'bert-base-multilingual-cased'\n",
    "\n",
    "\n",
    "TOKENIZER = AutoTokenizer.from_pretrained(PRE_TRAINED_MODEL_NAME) # BertTokenizer\n",
    "BERT_MODEL = AutoModel.from_pretrained(PRE_TRAINED_MODEL_NAME, return_dict=False) # BertModel    # return_dict=False for transformer >= 4.x"
   ]
  },
  {
   "cell_type": "code",
   "execution_count": 6,
   "id": "27881c4b",
   "metadata": {
    "execution": {
     "iopub.execute_input": "2022-05-28T21:23:35.039757Z",
     "iopub.status.busy": "2022-05-28T21:23:35.039458Z",
     "iopub.status.idle": "2022-05-28T21:23:35.042790Z",
     "shell.execute_reply": "2022-05-28T21:23:35.042045Z"
    },
    "id": "GojLyal3nEGQ",
    "outputId": "ef0deee3-3fe0-4f94-96cb-785cf2493230",
    "papermill": {
     "duration": 0.017258,
     "end_time": "2022-05-28T21:23:35.044539",
     "exception": false,
     "start_time": "2022-05-28T21:23:35.027281",
     "status": "completed"
    },
    "tags": []
   },
   "outputs": [],
   "source": [
    "# # shows device that it will be using\n",
    "# DEVICE"
   ]
  },
  {
   "cell_type": "code",
   "execution_count": 7,
   "id": "3fabddf9",
   "metadata": {
    "execution": {
     "iopub.execute_input": "2022-05-28T21:23:35.068989Z",
     "iopub.status.busy": "2022-05-28T21:23:35.068738Z",
     "iopub.status.idle": "2022-05-28T21:23:35.072014Z",
     "shell.execute_reply": "2022-05-28T21:23:35.071233Z"
    },
    "id": "KRRlWd-UnGtc",
    "outputId": "5c936d9b-dbc6-4c39-c534-79e88d49f54f",
    "papermill": {
     "duration": 0.017189,
     "end_time": "2022-05-28T21:23:35.073646",
     "exception": false,
     "start_time": "2022-05-28T21:23:35.056457",
     "status": "completed"
    },
    "tags": []
   },
   "outputs": [],
   "source": [
    "# # Double check that you are using GPU\n",
    "# # to see what kind of hardware will be used\n",
    "# !nvidia-smi"
   ]
  },
  {
   "cell_type": "code",
   "execution_count": 8,
   "id": "6c7a56b4",
   "metadata": {
    "execution": {
     "iopub.execute_input": "2022-05-28T21:23:35.098326Z",
     "iopub.status.busy": "2022-05-28T21:23:35.096665Z",
     "iopub.status.idle": "2022-05-28T21:23:35.101329Z",
     "shell.execute_reply": "2022-05-28T21:23:35.100639Z"
    },
    "id": "zpHHBKQIgbEs",
    "papermill": {
     "duration": 0.018201,
     "end_time": "2022-05-28T21:23:35.102931",
     "exception": false,
     "start_time": "2022-05-28T21:23:35.084730",
     "status": "completed"
    },
    "tags": []
   },
   "outputs": [],
   "source": [
    "BATCH_SIZE = 16"
   ]
  },
  {
   "cell_type": "markdown",
   "id": "8ed51854",
   "metadata": {
    "id": "t7wH3a5wlXaA",
    "papermill": {
     "duration": 0.01067,
     "end_time": "2022-05-28T21:23:35.124907",
     "exception": false,
     "start_time": "2022-05-28T21:23:35.114237",
     "status": "completed"
    },
    "tags": []
   },
   "source": [
    "Functions and class used"
   ]
  },
  {
   "cell_type": "code",
   "execution_count": 9,
   "id": "113de430",
   "metadata": {
    "execution": {
     "iopub.execute_input": "2022-05-28T21:23:35.149045Z",
     "iopub.status.busy": "2022-05-28T21:23:35.148606Z",
     "iopub.status.idle": "2022-05-28T21:23:35.176670Z",
     "shell.execute_reply": "2022-05-28T21:23:35.175771Z"
    },
    "id": "noQwa1-FghLU",
    "papermill": {
     "duration": 0.04241,
     "end_time": "2022-05-28T21:23:35.178597",
     "exception": false,
     "start_time": "2022-05-28T21:23:35.136187",
     "status": "completed"
    },
    "tags": []
   },
   "outputs": [],
   "source": [
    "# functions to prepare inputed corpus\n",
    "\n",
    "def to_sentiment_from_text(sentiment):\n",
    "    global SENTIMENT_COUNTER, isPositiveFound, isNeutralFound, isNegativeFound\n",
    "    if sentiment == 'neg':\n",
    "        if isNegativeFound is False:\n",
    "            SENTIMENT_COUNTER += 1\n",
    "            isNegativeFound = True\n",
    "        return 0\n",
    "    elif sentiment == 'neu':\n",
    "        if isNeutralFound is False:\n",
    "            SENTIMENT_COUNTER += 1\n",
    "            isNeutralFound = True\n",
    "        return 1\n",
    "    elif sentiment == 'pos':\n",
    "        if isPositiveFound is False:\n",
    "            SENTIMENT_COUNTER += 1\n",
    "            isPositiveFound = True\n",
    "        return 2\n",
    "\n",
    "\n",
    "def to_sentiment_from_number(rating):\n",
    "    global SENTIMENT_COUNTER, isPositiveFound, isNeutralFound, isNegativeFound\n",
    "    rating = int(rating)\n",
    "\n",
    "    if rating <= 2:\n",
    "        if isNegativeFound is False:\n",
    "          SENTIMENT_COUNTER += 1\n",
    "          isNegativeFound = True\n",
    "        return 0\n",
    "    elif rating == 3:\n",
    "        if isNeutralFound is False:\n",
    "            SENTIMENT_COUNTER += 1\n",
    "            isNeutralFound = True\n",
    "        return 1\n",
    "    else: \n",
    "        if isPositiveFound is False:\n",
    "            SENTIMENT_COUNTER += 1\n",
    "            isPositiveFound = True\n",
    "        return 2\n",
    "\n",
    "\n",
    "def analyse_corpus_content(tokenizer, csv_like_file, text_column_name: str):\n",
    "    token_lens = []\n",
    "\n",
    "    for txt in csv_like_file[text_column_name]:\n",
    "        tokens = tokenizer.encode(txt, max_length=512)\n",
    "        token_lens.append(len(tokens))\n",
    "\n",
    "    sns.distplot(token_lens)\n",
    "    plt.xlim([0, 256]) # 256 or 512 for input with long \"words\"\n",
    "    plt.xlabel('Token count')\n",
    "    # exit(55)\n",
    "\n",
    "\n",
    "class GPReviewDataset(Dataset):\n",
    "    def __init__(self, text, targets, tokenizer, max_len, text_column_name: str):\n",
    "        self.text = text\n",
    "        self.targets = targets\n",
    "        self.tokenizer = tokenizer\n",
    "        self.max_len = max_len\n",
    "        self.text_column_name = text_column_name\n",
    "\n",
    "    def __len__(self):\n",
    "        return len(self.text)\n",
    "\n",
    "    def __getitem__(self, item):\n",
    "        text = str(self.text[item])\n",
    "        target = self.targets[item]\n",
    "\n",
    "        encoding = self.tokenizer.encode_plus(\n",
    "            text,\n",
    "            add_special_tokens=True,\n",
    "            max_length=self.max_len,\n",
    "            return_token_type_ids=False,\n",
    "            pad_to_max_length=True,\n",
    "            return_attention_mask=True,\n",
    "            return_tensors='pt',\n",
    "        )\n",
    "\n",
    "        return {\n",
    "            'text': text,\n",
    "            'input_ids': encoding['input_ids'].flatten(),\n",
    "            'attention_mask': encoding['attention_mask'].flatten(),\n",
    "            'targets': torch.tensor(target, dtype=torch.long)\n",
    "        }\n",
    "\n",
    "\n",
    "def create_data_loader(csv_like_file, text_column_name: str, tokenizer, max_len, batch_size):\n",
    "    ds = GPReviewDataset(\n",
    "        text=csv_like_file[text_column_name].to_numpy(),\n",
    "        # targets=csv_like_file.sentiment.to_numpy(),\n",
    "        targets=np.nan_to_num(csv_like_file.sentiment.to_numpy(), copy=True, nan=2, posinf=None, neginf=None),\n",
    "        tokenizer=tokenizer,\n",
    "        max_len=max_len,\n",
    "        text_column_name=text_column_name\n",
    "    )\n",
    "\n",
    "    return DataLoader(\n",
    "        ds,\n",
    "        batch_size=batch_size,\n",
    "        shuffle=True,\n",
    "        # num_workers=4       # uses ?CPU? workers for loading data onto RAM, in windows might cause problems\n",
    "    )"
   ]
  },
  {
   "cell_type": "code",
   "execution_count": 10,
   "id": "e26fe7bb",
   "metadata": {
    "execution": {
     "iopub.execute_input": "2022-05-28T21:23:35.202633Z",
     "iopub.status.busy": "2022-05-28T21:23:35.202009Z",
     "iopub.status.idle": "2022-05-28T21:23:35.209157Z",
     "shell.execute_reply": "2022-05-28T21:23:35.208330Z"
    },
    "id": "43GbWGuvhNRM",
    "papermill": {
     "duration": 0.020746,
     "end_time": "2022-05-28T21:23:35.210909",
     "exception": false,
     "start_time": "2022-05-28T21:23:35.190163",
     "status": "completed"
    },
    "tags": []
   },
   "outputs": [],
   "source": [
    "# BERT base\n",
    "\n",
    "class SentimentClassifier(nn.Module):\n",
    "    def __init__(self, n_classes):\n",
    "        super(SentimentClassifier, self).__init__()\n",
    "        self.bert = BERT_MODEL\n",
    "        self.drop = nn.Dropout(p=0.3)\n",
    "        self.out = nn.Linear(self.bert.config.hidden_size, n_classes)\n",
    "\n",
    "    def forward(self, input_ids, attention_mask):\n",
    "        _, pooled_output = self.bert(\n",
    "            input_ids=input_ids,\n",
    "            attention_mask=attention_mask\n",
    "        )\n",
    "\n",
    "        output = self.drop(pooled_output)\n",
    "        return self.out(output)"
   ]
  },
  {
   "cell_type": "code",
   "execution_count": 11,
   "id": "858ade5a",
   "metadata": {
    "execution": {
     "iopub.execute_input": "2022-05-28T21:23:35.234773Z",
     "iopub.status.busy": "2022-05-28T21:23:35.234509Z",
     "iopub.status.idle": "2022-05-28T21:23:35.250283Z",
     "shell.execute_reply": "2022-05-28T21:23:35.249570Z"
    },
    "id": "A_J4dVrKhV74",
    "papermill": {
     "duration": 0.030107,
     "end_time": "2022-05-28T21:23:35.251949",
     "exception": false,
     "start_time": "2022-05-28T21:23:35.221842",
     "status": "completed"
    },
    "tags": []
   },
   "outputs": [],
   "source": [
    "# BERT training, evaluation and predictions\n",
    "\n",
    "def train_epoch(\n",
    "        passed_model,\n",
    "        data_loader,\n",
    "        loss_fn,\n",
    "        optimizer,\n",
    "        device,\n",
    "        scheduler,\n",
    "        n_examples\n",
    "):\n",
    "    passed_model = passed_model.train()\n",
    "    losses = []\n",
    "    correct_predictions = 0\n",
    "\n",
    "    for d in data_loader:\n",
    "        input_ids = d['input_ids'].to(device)\n",
    "        attention_mask = d[\"attention_mask\"].to(device)\n",
    "        targets = d[\"targets\"].to(device)\n",
    "\n",
    "        outputs = passed_model(\n",
    "            input_ids=input_ids,\n",
    "            attention_mask=attention_mask\n",
    "        )\n",
    "\n",
    "        _, preds = torch.max(outputs, dim=1)\n",
    "        loss = loss_fn(outputs, targets)\n",
    "\n",
    "        correct_predictions += torch.sum(preds == targets)\n",
    "        losses.append(loss.item())\n",
    "\n",
    "        loss.backward()\n",
    "        nn.utils.clip_grad_norm_(model.parameters(), max_norm=1.0)\n",
    "        optimizer.step()\n",
    "        scheduler.step()\n",
    "        optimizer.zero_grad()\n",
    "\n",
    "    return correct_predictions.double() / n_examples, np.mean(losses)\n",
    "\n",
    "\n",
    "def eval_model(passed_model, data_loader, loss_fn, device, n_examples):\n",
    "    passed_model = passed_model.eval()\n",
    "\n",
    "    losses = []\n",
    "    correct_predictions = 0\n",
    "\n",
    "    with torch.no_grad():\n",
    "        for d in data_loader:\n",
    "            input_ids = d['input_ids'].to(device)\n",
    "            attention_mask = d[\"attention_mask\"].to(device)\n",
    "            targets = d[\"targets\"].to(device)\n",
    "\n",
    "            outputs = passed_model(\n",
    "                input_ids=input_ids,\n",
    "                attention_mask=attention_mask\n",
    "            )\n",
    "            _, preds = torch.max(outputs, dim=1)\n",
    "\n",
    "            loss = loss_fn(outputs, targets)\n",
    "\n",
    "            correct_predictions += torch.sum(preds == targets)\n",
    "            losses.append(loss.item())\n",
    "\n",
    "    return correct_predictions.double() / n_examples, np.mean(losses)\n",
    "\n",
    "\n",
    "def get_predictions(pass_model, data_loader):\n",
    "    pass_model = pass_model.eval()\n",
    "\n",
    "    review_texts = []\n",
    "    predictions = []\n",
    "    prediction_probs = []\n",
    "    real_values = []\n",
    "\n",
    "    with torch.no_grad():\n",
    "        for d in data_loader:\n",
    "            texts = d[\"text\"]\n",
    "            input_ids = d[\"input_ids\"].to(DEVICE)\n",
    "            attention_mask = d[\"attention_mask\"].to(DEVICE)\n",
    "            targets = d[\"targets\"].to(DEVICE)\n",
    "\n",
    "            outputs = pass_model(\n",
    "                input_ids=input_ids,\n",
    "                attention_mask=attention_mask\n",
    "\n",
    "            )\n",
    "            _, preds = torch.max(outputs, dim=1)\n",
    "\n",
    "            review_texts.extend(texts)\n",
    "            predictions.extend(preds)\n",
    "            prediction_probs.extend(outputs)\n",
    "            real_values.extend(targets)\n",
    "\n",
    "    predictions = torch.stack(predictions).cpu()\n",
    "    prediction_probs = torch.stack(prediction_probs).cpu()\n",
    "    real_values = torch.stack(real_values).cpu()\n",
    "\n",
    "    return review_texts, predictions, prediction_probs, real_values\n"
   ]
  },
  {
   "cell_type": "markdown",
   "id": "c20cf5b8",
   "metadata": {
    "id": "TkTnAJ9Ihjdg",
    "papermill": {
     "duration": 0.011007,
     "end_time": "2022-05-28T21:23:35.274275",
     "exception": false,
     "start_time": "2022-05-28T21:23:35.263268",
     "status": "completed"
    },
    "tags": []
   },
   "source": [
    "Uploading files to current directory\n",
    "\n",
    "\n"
   ]
  },
  {
   "cell_type": "code",
   "execution_count": 12,
   "id": "523b17ed",
   "metadata": {
    "execution": {
     "iopub.execute_input": "2022-05-28T21:23:35.298522Z",
     "iopub.status.busy": "2022-05-28T21:23:35.297182Z",
     "iopub.status.idle": "2022-05-28T21:23:35.301036Z",
     "shell.execute_reply": "2022-05-28T21:23:35.300345Z"
    },
    "id": "r_sN9gPSpmNQ",
    "papermill": {
     "duration": 0.017338,
     "end_time": "2022-05-28T21:23:35.302610",
     "exception": false,
     "start_time": "2022-05-28T21:23:35.285272",
     "status": "completed"
    },
    "tags": []
   },
   "outputs": [],
   "source": [
    "# import os\n",
    "# print(os.getcwd())"
   ]
  },
  {
   "cell_type": "code",
   "execution_count": null,
   "id": "48e8f1c3",
   "metadata": {
    "execution": {
     "iopub.execute_input": "2022-05-28T21:23:35.326897Z",
     "iopub.status.busy": "2022-05-28T21:23:35.326372Z",
     "iopub.status.idle": "2022-05-28T21:24:06.188477Z",
     "shell.execute_reply": "2022-05-28T21:24:06.187445Z"
    },
    "id": "UphFXzfZ-8d8",
    "papermill": {
     "duration": 30.8763,
     "end_time": "2022-05-28T21:24:06.190588",
     "exception": false,
     "start_time": "2022-05-28T21:23:35.314288",
     "status": "completed"
    },
    "tags": []
   },
   "outputs": [],
   "source": [
    "# to download files from google drive\n",
    "!pip install gdown"
   ]
  },
  {
   "cell_type": "code",
   "execution_count": null,
   "id": "abca712b",
   "metadata": {
    "execution": {
     "iopub.execute_input": "2022-05-28T21:24:06.220775Z",
     "iopub.status.busy": "2022-05-28T21:24:06.220436Z",
     "iopub.status.idle": "2022-05-28T21:24:11.748310Z",
     "shell.execute_reply": "2022-05-28T21:24:11.747299Z"
    },
    "id": "58QH7Lc1qAeg",
    "papermill": {
     "duration": 5.54545,
     "end_time": "2022-05-28T21:24:11.750586",
     "exception": false,
     "start_time": "2022-05-28T21:24:06.205136",
     "status": "completed"
    },
    "tags": []
   },
   "outputs": [],
   "source": [
    "# download training data\n",
    "\n",
    "# !gdown --id ID_STRING    if public, you can use this one\n",
    "# !gdown --id 1DVrIDFsYEkeeOC8lbctI2bMYCcx61cf0 # complete_corpus_extended.csv\n",
    "\n",
    "## alternitive ways to download\n",
    "# !wget --no-check-certificate 'https://docs.google.com/uc?export=download&id=1OQeQQzaXxQqrSyEvJ8snoLNBXIsA8kph' -O complete_training_corpus.csv\n",
    "# !wget --load-cookies /tmp/cookies.txt \"https://docs.google.com/uc?export=download&confirm=$(wget --quiet --save-cookies /tmp/cookies.txt --keep-session-cookies --no-check-certificate 'https://docs.google.com/uc?export=download&id=1eF8AUsQReZ8RCN0ipoBTYkwBNIwIfV7S' -O- | sed -rn 's/.*confirm=([0-9A-Za-z_]+).*/\\1\\n/p')&id=complete_training_corpus_long.csv\" -O complete_training_corpus_long.csv && rm -rf /tmp/cookies.txt\n",
    "# !git clone \"url\""
   ]
  },
  {
   "cell_type": "markdown",
   "id": "a289beb8",
   "metadata": {
    "id": "Ly9e6aRUrZJg",
    "papermill": {
     "duration": 0.013403,
     "end_time": "2022-05-28T21:24:11.778307",
     "exception": false,
     "start_time": "2022-05-28T21:24:11.764904",
     "status": "completed"
    },
    "tags": []
   },
   "source": [
    "Main parts of program\n"
   ]
  },
  {
   "cell_type": "code",
   "execution_count": 15,
   "id": "ceb59d0d",
   "metadata": {
    "execution": {
     "iopub.execute_input": "2022-05-28T21:24:11.806982Z",
     "iopub.status.busy": "2022-05-28T21:24:11.806613Z",
     "iopub.status.idle": "2022-05-28T21:24:12.321728Z",
     "shell.execute_reply": "2022-05-28T21:24:12.320888Z"
    },
    "id": "QR9l1OGmhzYQ",
    "papermill": {
     "duration": 0.532319,
     "end_time": "2022-05-28T21:24:12.324134",
     "exception": false,
     "start_time": "2022-05-28T21:24:11.791815",
     "status": "completed"
    },
    "tags": []
   },
   "outputs": [],
   "source": [
    "# loads data\n",
    "\n",
    "corpus = pd.read_csv(\"your_corpus_name.csv\", sep=\"\\t\")  # delimiter might be redundent in your case\n",
    "corpus['sentiment'] = corpus.sentiment.apply(to_sentiment_from_text)"
   ]
  },
  {
   "cell_type": "code",
   "execution_count": 16,
   "id": "d9ce3866",
   "metadata": {
    "execution": {
     "iopub.execute_input": "2022-05-28T21:24:12.352982Z",
     "iopub.status.busy": "2022-05-28T21:24:12.352670Z",
     "iopub.status.idle": "2022-05-28T21:24:12.357250Z",
     "shell.execute_reply": "2022-05-28T21:24:12.356515Z"
    },
    "id": "f0crrndWuDaI",
    "papermill": {
     "duration": 0.020867,
     "end_time": "2022-05-28T21:24:12.358955",
     "exception": false,
     "start_time": "2022-05-28T21:24:12.338088",
     "status": "completed"
    },
    "tags": []
   },
   "outputs": [],
   "source": [
    "# generates array with sentiments name based on input\n",
    "class_names = []\n",
    "\n",
    "if isNegativeFound is True:\n",
    "    class_names.append('negative')\n",
    "if isNeutralFound is True:\n",
    "    class_names.append('neutral')\n",
    "if isPositiveFound is True:\n",
    "    class_names.append('positive')"
   ]
  },
  {
   "cell_type": "markdown",
   "id": "2a86f578",
   "metadata": {
    "id": "Vm6F9wT_Q7kM",
    "papermill": {
     "duration": 0.013384,
     "end_time": "2022-05-28T21:24:12.385896",
     "exception": false,
     "start_time": "2022-05-28T21:24:12.372512",
     "status": "completed"
    },
    "tags": []
   },
   "source": [
    "Show what is inside file"
   ]
  },
  {
   "cell_type": "code",
   "execution_count": 17,
   "id": "a70a9a01",
   "metadata": {
    "execution": {
     "iopub.execute_input": "2022-05-28T21:24:12.417525Z",
     "iopub.status.busy": "2022-05-28T21:24:12.417156Z",
     "iopub.status.idle": "2022-05-28T21:24:12.421186Z",
     "shell.execute_reply": "2022-05-28T21:24:12.420403Z"
    },
    "id": "uhDQwMR3RBkk",
    "papermill": {
     "duration": 0.02216,
     "end_time": "2022-05-28T21:24:12.422890",
     "exception": false,
     "start_time": "2022-05-28T21:24:12.400730",
     "status": "completed"
    },
    "tags": []
   },
   "outputs": [],
   "source": [
    "# corpus.info()"
   ]
  },
  {
   "cell_type": "markdown",
   "id": "047995ab",
   "metadata": {
    "id": "gWY1zBO3uHus",
    "papermill": {
     "duration": 0.014537,
     "end_time": "2022-05-28T21:24:12.452486",
     "exception": false,
     "start_time": "2022-05-28T21:24:12.437949",
     "status": "completed"
    },
    "tags": []
   },
   "source": [
    "Show how much balanced are data"
   ]
  },
  {
   "cell_type": "code",
   "execution_count": 18,
   "id": "8acfad58",
   "metadata": {
    "execution": {
     "iopub.execute_input": "2022-05-28T21:24:12.483367Z",
     "iopub.status.busy": "2022-05-28T21:24:12.482572Z",
     "iopub.status.idle": "2022-05-28T21:24:12.486576Z",
     "shell.execute_reply": "2022-05-28T21:24:12.485854Z"
    },
    "id": "Q0TWHkmDt7q0",
    "papermill": {
     "duration": 0.021193,
     "end_time": "2022-05-28T21:24:12.488311",
     "exception": false,
     "start_time": "2022-05-28T21:24:12.467118",
     "status": "completed"
    },
    "tags": []
   },
   "outputs": [],
   "source": [
    "# ax = sns.countplot(corpus.sentiment)\n",
    "# plt.xlabel('sentiment')\n",
    "# ax.set_xticklabels(class_names);"
   ]
  },
  {
   "cell_type": "markdown",
   "id": "f4beb666",
   "metadata": {
    "id": "1OYD0ELMZzZo",
    "papermill": {
     "duration": 0.014772,
     "end_time": "2022-05-28T21:24:12.517788",
     "exception": false,
     "start_time": "2022-05-28T21:24:12.503016",
     "status": "completed"
    },
    "tags": []
   },
   "source": [
    "Balance of complete_corpus_extended.csv\n",
    "\n",
    "![image.png](data:image/png;base64,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)"
   ]
  },
  {
   "cell_type": "markdown",
   "id": "25956653",
   "metadata": {
    "id": "lDuEfBukM9gE",
    "papermill": {
     "duration": 0.014546,
     "end_time": "2022-05-28T21:24:12.546923",
     "exception": false,
     "start_time": "2022-05-28T21:24:12.532377",
     "status": "completed"
    },
    "tags": []
   },
   "source": [
    "Balance of complete_training_corpus_long.csv\n",
    "\n",
    "![image.png](data:image/png;base64,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)"
   ]
  },
  {
   "cell_type": "markdown",
   "id": "417332d7",
   "metadata": {
    "id": "zKAD8z1EuZoA",
    "papermill": {
     "duration": 0.014491,
     "end_time": "2022-05-28T21:24:12.576200",
     "exception": false,
     "start_time": "2022-05-28T21:24:12.561709",
     "status": "completed"
    },
    "tags": []
   },
   "source": [
    "Help determine MAX_LEN"
   ]
  },
  {
   "cell_type": "code",
   "execution_count": 19,
   "id": "edd6b212",
   "metadata": {
    "execution": {
     "iopub.execute_input": "2022-05-28T21:24:12.607591Z",
     "iopub.status.busy": "2022-05-28T21:24:12.606838Z",
     "iopub.status.idle": "2022-05-28T21:24:12.611991Z",
     "shell.execute_reply": "2022-05-28T21:24:12.611257Z"
    },
    "id": "KNXN9i9tjYVM",
    "papermill": {
     "duration": 0.022735,
     "end_time": "2022-05-28T21:24:12.613688",
     "exception": false,
     "start_time": "2022-05-28T21:24:12.590953",
     "status": "completed"
    },
    "tags": []
   },
   "outputs": [],
   "source": [
    "# # to check what size you should use for MAX_LEN of DataLoader, correct in the first few lines of code\n",
    "# # !! IMPORTANT !!words\n",
    "# analyse_corpus_content(TOKENIZER, corpus, 'words')"
   ]
  },
  {
   "cell_type": "markdown",
   "id": "c671f0c6",
   "metadata": {
    "id": "thf83gF87lWs",
    "papermill": {
     "duration": 0.014619,
     "end_time": "2022-05-28T21:24:12.642925",
     "exception": false,
     "start_time": "2022-05-28T21:24:12.628306",
     "status": "completed"
    },
    "tags": []
   },
   "source": [
    "Picture of token decenty of complete_training_corpus_extended.csv\n",
    "\n",
    "![image.png](data:image/png;base64,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)\n",
    "\n",
    "In this case we will be using MAX_LEN of 190\n",
    "\n"
   ]
  },
  {
   "cell_type": "markdown",
   "id": "4970ca8e",
   "metadata": {
    "id": "mL9ML143NSFQ",
    "papermill": {
     "duration": 0.01497,
     "end_time": "2022-05-28T21:24:12.672864",
     "exception": false,
     "start_time": "2022-05-28T21:24:12.657894",
     "status": "completed"
    },
    "tags": []
   },
   "source": [
    "Picture of token decenty of complete_training_corpus_long.csv\n",
    "\n",
    "![image.png](data:image/png;base64,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)\n",
    "\n",
    "In case of \"complete_training_corpus_long.csv\" we will be using maximum (512)"
   ]
  },
  {
   "cell_type": "code",
   "execution_count": 20,
   "id": "4feb7f0d",
   "metadata": {
    "execution": {
     "iopub.execute_input": "2022-05-28T21:24:12.704663Z",
     "iopub.status.busy": "2022-05-28T21:24:12.703742Z",
     "iopub.status.idle": "2022-05-28T21:24:12.708461Z",
     "shell.execute_reply": "2022-05-28T21:24:12.707716Z"
    },
    "id": "7ChKiodQlrsc",
    "papermill": {
     "duration": 0.022346,
     "end_time": "2022-05-28T21:24:12.710297",
     "exception": false,
     "start_time": "2022-05-28T21:24:12.687951",
     "status": "completed"
    },
    "tags": []
   },
   "outputs": [],
   "source": [
    "MAX_LEN = 190  # lenght of sequence of tokens in \"line\" for BERT (test with analyse_corpus_content(...) to see what suits your data set the best)"
   ]
  },
  {
   "cell_type": "code",
   "execution_count": 21,
   "id": "8e405c8b",
   "metadata": {
    "execution": {
     "iopub.execute_input": "2022-05-28T21:24:12.741421Z",
     "iopub.status.busy": "2022-05-28T21:24:12.740726Z",
     "iopub.status.idle": "2022-05-28T21:24:12.771972Z",
     "shell.execute_reply": "2022-05-28T21:24:12.771080Z"
    },
    "id": "txzeGvYKi0kI",
    "papermill": {
     "duration": 0.049209,
     "end_time": "2022-05-28T21:24:12.774108",
     "exception": false,
     "start_time": "2022-05-28T21:24:12.724899",
     "status": "completed"
    },
    "tags": []
   },
   "outputs": [],
   "source": [
    "# prepare data for DataLoader\n",
    "\n",
    "corpus_train, corpus_test = train_test_split(\n",
    "    corpus,\n",
    "    test_size=0.1,\n",
    "    random_state=RANDOM_SEED\n",
    ")\n",
    "\n",
    "corpus_val, corpus_test = train_test_split(\n",
    "    corpus_test,\n",
    "    test_size=0.5,\n",
    "    random_state=RANDOM_SEED\n",
    ")\n",
    "\n",
    "train_data_loader = create_data_loader(corpus_train, 'words', TOKENIZER, MAX_LEN, BATCH_SIZE)\n",
    "valid_data_loader = create_data_loader(corpus_val, 'words', TOKENIZER, MAX_LEN, BATCH_SIZE)\n",
    "test_data_loader = create_data_loader(corpus_test, 'words', TOKENIZER, MAX_LEN, BATCH_SIZE)"
   ]
  },
  {
   "cell_type": "code",
   "execution_count": 22,
   "id": "b0aabec9",
   "metadata": {
    "execution": {
     "iopub.execute_input": "2022-05-28T21:24:12.806825Z",
     "iopub.status.busy": "2022-05-28T21:24:12.806121Z",
     "iopub.status.idle": "2022-05-28T21:24:12.809993Z",
     "shell.execute_reply": "2022-05-28T21:24:12.809150Z"
    },
    "id": "IUkdC_NGjGEc",
    "papermill": {
     "duration": 0.022078,
     "end_time": "2022-05-28T21:24:12.812056",
     "exception": false,
     "start_time": "2022-05-28T21:24:12.789978",
     "status": "completed"
    },
    "tags": []
   },
   "outputs": [],
   "source": [
    "# # initialize BERT model\n",
    "\n",
    "# model = SentimentClassifier(SENTIMENT_COUNTER)\n",
    "# model = model.to(DEVICE)"
   ]
  },
  {
   "cell_type": "code",
   "execution_count": null,
   "id": "22b5fd06",
   "metadata": {
    "execution": {
     "iopub.execute_input": "2022-05-28T21:24:12.842813Z",
     "iopub.status.busy": "2022-05-28T21:24:12.842536Z",
     "iopub.status.idle": "2022-05-28T21:24:30.903118Z",
     "shell.execute_reply": "2022-05-28T21:24:30.902171Z"
    },
    "id": "EaCkrRH87bTA",
    "papermill": {
     "duration": 18.078189,
     "end_time": "2022-05-28T21:24:30.905223",
     "exception": false,
     "start_time": "2022-05-28T21:24:12.827034",
     "status": "completed"
    },
    "tags": []
   },
   "outputs": [],
   "source": [
    "# download your pretrain bert model\n",
    "!gdown --id ID\n",
    "#!gdown --id 1zG_PvYwcSWGNC_SeE6bJDd2dQB7BQjwo   # final version, with 8 epoch of training\n",
    "\n",
    "model = SentimentClassifier(3)   # number of sentiment classes (negative, neutral, positive)\n",
    "model.load_state_dict(torch.load('your_bert_model_name.bin'))\n",
    "model = model.to(DEVICE)"
   ]
  },
  {
   "cell_type": "code",
   "execution_count": 24,
   "id": "5e4aefc3",
   "metadata": {
    "execution": {
     "iopub.execute_input": "2022-05-28T21:24:30.938268Z",
     "iopub.status.busy": "2022-05-28T21:24:30.937946Z",
     "iopub.status.idle": "2022-05-28T21:24:30.942108Z",
     "shell.execute_reply": "2022-05-28T21:24:30.941277Z"
    },
    "id": "yhNyM2ELl67c",
    "papermill": {
     "duration": 0.022896,
     "end_time": "2022-05-28T21:24:30.944020",
     "exception": false,
     "start_time": "2022-05-28T21:24:30.921124",
     "status": "completed"
    },
    "tags": []
   },
   "outputs": [],
   "source": [
    "EPOCHS = 3   # keep in mind how much time one epoch takes (~ 50min)"
   ]
  },
  {
   "cell_type": "code",
   "execution_count": 25,
   "id": "90e3b071",
   "metadata": {
    "execution": {
     "iopub.execute_input": "2022-05-28T21:24:30.975766Z",
     "iopub.status.busy": "2022-05-28T21:24:30.975480Z",
     "iopub.status.idle": "2022-05-28T23:33:23.549959Z",
     "shell.execute_reply": "2022-05-28T23:33:23.548925Z"
    },
    "id": "5_R4gQW3jLDM",
    "outputId": "10c1945c-0782-44a8-840f-e35ad75e5981",
    "papermill": {
     "duration": 7732.593508,
     "end_time": "2022-05-28T23:33:23.552856",
     "exception": false,
     "start_time": "2022-05-28T21:24:30.959348",
     "status": "completed"
    },
    "tags": []
   },
   "outputs": [
    {
     "name": "stderr",
     "output_type": "stream",
     "text": [
      "/opt/conda/lib/python3.7/site-packages/transformers/optimization.py:309: FutureWarning: This implementation of AdamW is deprecated and will be removed in a future version. Use the PyTorch implementation torch.optim.AdamW instead, or set `no_deprecation_warning=True` to disable this warning\n",
      "  FutureWarning,\n",
      "Truncation was not explicitly activated but `max_length` is provided a specific value, please use `truncation=True` to explicitly truncate examples to max length. Defaulting to 'longest_first' truncation strategy. If you encode pairs of sequences (GLUE-style) with the tokenizer you can select this strategy more precisely by providing a specific strategy to `truncation`.\n",
      "/opt/conda/lib/python3.7/site-packages/transformers/tokenization_utils_base.py:2269: FutureWarning: The `pad_to_max_length` argument is deprecated and will be removed in a future version, use `padding=True` or `padding='longest'` to pad to the longest sequence in the batch, or use `padding='max_length'` to pad to a max length. In this case, you can give a specific length with `max_length` (e.g. `max_length=45`) or leave max_length to None to pad to the maximal input size of the model (e.g. 512 for Bert).\n",
      "  FutureWarning,\n"
     ]
    },
    {
     "name": "stdout",
     "output_type": "stream",
     "text": [
      "Epoch 1/3\n",
      "----------\n",
      "Train loss 0.5362474706321422 accuracy 0.7751761848711951\n",
      "Val   loss 0.4957835981722052 accuracy 0.7890572616333646\n",
      "\n",
      "Epoch 2/3\n",
      "----------\n",
      "Train loss 0.42223435172120705 accuracy 0.8313542023630377\n",
      "Val   loss 0.4581815204812449 accuracy 0.8184256403379375\n",
      "\n",
      "Epoch 3/3\n",
      "----------\n",
      "Train loss 0.360586203666486 accuracy 0.8602738501422889\n",
      "Val   loss 0.463916312927097 accuracy 0.8221805015421753\n",
      "\n"
     ]
    }
   ],
   "source": [
    "# train based on input\n",
    "\n",
    "optimizer = AdamW(model.parameters(), lr=2e-5, correct_bias=False)\n",
    "total_steps = len(train_data_loader) * EPOCHS\n",
    "\n",
    "scheduler = get_linear_schedule_with_warmup(\n",
    "    optimizer,\n",
    "    num_warmup_steps=0,\n",
    "    num_training_steps=total_steps\n",
    ")\n",
    "\n",
    "loss_fn = nn.CrossEntropyLoss().to(DEVICE)\n",
    "\n",
    "history = defaultdict(list)\n",
    "best_accuracy = 0\n",
    "\n",
    "# %%time\n",
    "# start_total_time = time.time()\n",
    "\n",
    "\n",
    "for epoch in range(EPOCHS):\n",
    "    print(f'Epoch {epoch + 1}/{EPOCHS}')\n",
    "    print('-' * 10)\n",
    "\n",
    "    # tic = time.time()\n",
    "\n",
    "    train_acc, train_loss = train_epoch(\n",
    "        model,\n",
    "        train_data_loader,\n",
    "        loss_fn,\n",
    "        optimizer,\n",
    "        DEVICE,\n",
    "        scheduler,\n",
    "        len(corpus_train)\n",
    "    )\n",
    "\n",
    "    print(f'Train loss {train_loss} accuracy {train_acc}')\n",
    "\n",
    "    val_acc, val_loss = eval_model(\n",
    "        model,\n",
    "        valid_data_loader,\n",
    "        loss_fn,\n",
    "        DEVICE,\n",
    "        len(corpus_val)\n",
    "    )\n",
    "\n",
    "    # toc = round(tic - time.time())\n",
    "    # m, s = divmod(toc, 60)\n",
    "\n",
    "    print(f'Val   loss {val_loss} accuracy {val_acc}')\n",
    "    # print(f'\\nTime taken: {m:02d}m {s:02d}s') \n",
    "    print('')\n",
    "\n",
    "    history['train_acc'].append(train_acc)\n",
    "    history['train_loss'].append(train_loss)\n",
    "    history['val_acc'].append(val_acc)\n",
    "    history['val_loss'].append(val_loss)\n",
    "\n",
    "    # save model\n",
    "    if val_acc > best_accuracy:\n",
    "        torch.save(model.state_dict(), 'bert_normal_model_final.bin')\n",
    "        best_accuracy = val_acc\n",
    "\n",
    "\n",
    "# end_total_time = round(start_total_time - time.time())\n",
    "# m, s = divmod(end_total_time, 60)\n",
    "# h, m = divmod(m, 60)\n",
    "\n",
    "# print(f'\\n\\nTotal time taken: {h:d}h {m:02d}m {s:02d}s')"
   ]
  },
  {
   "cell_type": "code",
   "execution_count": 26,
   "id": "59ffc6de",
   "metadata": {
    "execution": {
     "iopub.execute_input": "2022-05-28T23:33:23.586732Z",
     "iopub.status.busy": "2022-05-28T23:33:23.586444Z",
     "iopub.status.idle": "2022-05-28T23:34:07.680694Z",
     "shell.execute_reply": "2022-05-28T23:34:07.679871Z"
    },
    "id": "1vWiU3kzk78M",
    "outputId": "a3cad643-7e8e-42c2-a1f5-879d551cdc1c",
    "papermill": {
     "duration": 44.13052,
     "end_time": "2022-05-28T23:34:07.699954",
     "exception": false,
     "start_time": "2022-05-28T23:33:23.569434",
     "status": "completed"
    },
    "tags": []
   },
   "outputs": [
    {
     "name": "stdout",
     "output_type": "stream",
     "text": [
      "              precision    recall  f1-score   support\n",
      "\n",
      "    negative       0.86      0.83      0.85      2740\n",
      "     neutral       0.74      0.79      0.76      2530\n",
      "    positive       0.88      0.84      0.86      2188\n",
      "\n",
      "    accuracy                           0.82      7458\n",
      "   macro avg       0.83      0.82      0.82      7458\n",
      "weighted avg       0.83      0.82      0.82      7458\n",
      "\n"
     ]
    }
   ],
   "source": [
    "# show statistics of training based on test part of corpus\n",
    "\n",
    "y_review_texts, y_pred, y_pred_probs, y_test = get_predictions(\n",
    "    model,\n",
    "    test_data_loader\n",
    ")\n",
    "\n",
    "# shows statistics\n",
    "print(classification_report(y_test, y_pred, target_names=class_names))\n"
   ]
  }
 ],
 "metadata": {
  "kernelspec": {
   "display_name": "Python 3",
   "language": "python",
   "name": "python3"
  },
  "language_info": {
   "codemirror_mode": {
    "name": "ipython",
    "version": 3
   },
   "file_extension": ".py",
   "mimetype": "text/x-python",
   "name": "python",
   "nbconvert_exporter": "python",
   "pygments_lexer": "ipython3",
   "version": "3.7.12"
  },
  "papermill": {
   "default_parameters": {},
   "duration": 7928.576487,
   "end_time": "2022-05-28T23:34:10.554421",
   "environment_variables": {},
   "exception": null,
   "input_path": "__notebook__.ipynb",
   "output_path": "__notebook__.ipynb",
   "parameters": {},
   "start_time": "2022-05-28T21:22:01.977934",
   "version": "2.3.4"
  },
  "widgets": {
   "application/vnd.jupyter.widget-state+json": {
    "state": {
     "07a74c440caf4f83a9d5c074f8a7aaac": {
      "model_module": "@jupyter-widgets/base",
      "model_module_version": "1.2.0",
      "model_name": "LayoutModel",
      "state": {
       "_model_module": "@jupyter-widgets/base",
       "_model_module_version": "1.2.0",
       "_model_name": "LayoutModel",
       "_view_count": null,
       "_view_module": "@jupyter-widgets/base",
       "_view_module_version": "1.2.0",
       "_view_name": "LayoutView",
       "align_content": null,
       "align_items": null,
       "align_self": null,
       "border": null,
       "bottom": null,
       "display": null,
       "flex": null,
       "flex_flow": null,
       "grid_area": null,
       "grid_auto_columns": null,
       "grid_auto_flow": null,
       "grid_auto_rows": null,
       "grid_column": null,
       "grid_gap": null,
       "grid_row": null,
       "grid_template_areas": null,
       "grid_template_columns": null,
       "grid_template_rows": null,
       "height": null,
       "justify_content": null,
       "justify_items": null,
       "left": null,
       "margin": null,
       "max_height": null,
       "max_width": null,
       "min_height": null,
       "min_width": null,
       "object_fit": null,
       "object_position": null,
       "order": null,
       "overflow": null,
       "overflow_x": null,
       "overflow_y": null,
       "padding": null,
       "right": null,
       "top": null,
       "visibility": null,
       "width": null
      }
     },
     "123840d2d5424f13b65496b6f211db46": {
      "model_module": "@jupyter-widgets/base",
      "model_module_version": "1.2.0",
      "model_name": "LayoutModel",
      "state": {
       "_model_module": "@jupyter-widgets/base",
       "_model_module_version": "1.2.0",
       "_model_name": "LayoutModel",
       "_view_count": null,
       "_view_module": "@jupyter-widgets/base",
       "_view_module_version": "1.2.0",
       "_view_name": "LayoutView",
       "align_content": null,
       "align_items": null,
       "align_self": null,
       "border": null,
       "bottom": null,
       "display": null,
       "flex": null,
       "flex_flow": null,
       "grid_area": null,
       "grid_auto_columns": null,
       "grid_auto_flow": null,
       "grid_auto_rows": null,
       "grid_column": null,
       "grid_gap": null,
       "grid_row": null,
       "grid_template_areas": null,
       "grid_template_columns": null,
       "grid_template_rows": null,
       "height": null,
       "justify_content": null,
       "justify_items": null,
       "left": null,
       "margin": null,
       "max_height": null,
       "max_width": null,
       "min_height": null,
       "min_width": null,
       "object_fit": null,
       "object_position": null,
       "order": null,
       "overflow": null,
       "overflow_x": null,
       "overflow_y": null,
       "padding": null,
       "right": null,
       "top": null,
       "visibility": null,
       "width": null
      }
     },
     "13d84515270b4cb296001c1ea142733a": {
      "model_module": "@jupyter-widgets/controls",
      "model_module_version": "1.5.0",
      "model_name": "HTMLModel",
      "state": {
       "_dom_classes": [],
       "_model_module": "@jupyter-widgets/controls",
       "_model_module_version": "1.5.0",
       "_model_name": "HTMLModel",
       "_view_count": null,
       "_view_module": "@jupyter-widgets/controls",
       "_view_module_version": "1.5.0",
       "_view_name": "HTMLView",
       "description": "",
       "description_tooltip": null,
       "layout": "IPY_MODEL_b78eb2e1df334ccb8710dd8c2cc96a8b",
       "placeholder": "​",
       "style": "IPY_MODEL_d336fe5a74114039bd2628187171624c",
       "value": " 1.57M/1.57M [00:01&lt;00:00, 1.30MB/s]"
      }
     },
     "17370b9b19b24a4aa40a39d058241272": {
      "model_module": "@jupyter-widgets/controls",
      "model_module_version": "1.5.0",
      "model_name": "DescriptionStyleModel",
      "state": {
       "_model_module": "@jupyter-widgets/controls",
       "_model_module_version": "1.5.0",
       "_model_name": "DescriptionStyleModel",
       "_view_count": null,
       "_view_module": "@jupyter-widgets/base",
       "_view_module_version": "1.2.0",
       "_view_name": "StyleView",
       "description_width": ""
      }
     },
     "174ae6925d30463fbd3c7fb305b6c8cc": {
      "model_module": "@jupyter-widgets/base",
      "model_module_version": "1.2.0",
      "model_name": "LayoutModel",
      "state": {
       "_model_module": "@jupyter-widgets/base",
       "_model_module_version": "1.2.0",
       "_model_name": "LayoutModel",
       "_view_count": null,
       "_view_module": "@jupyter-widgets/base",
       "_view_module_version": "1.2.0",
       "_view_name": "LayoutView",
       "align_content": null,
       "align_items": null,
       "align_self": null,
       "border": null,
       "bottom": null,
       "display": null,
       "flex": null,
       "flex_flow": null,
       "grid_area": null,
       "grid_auto_columns": null,
       "grid_auto_flow": null,
       "grid_auto_rows": null,
       "grid_column": null,
       "grid_gap": null,
       "grid_row": null,
       "grid_template_areas": null,
       "grid_template_columns": null,
       "grid_template_rows": null,
       "height": null,
       "justify_content": null,
       "justify_items": null,
       "left": null,
       "margin": null,
       "max_height": null,
       "max_width": null,
       "min_height": null,
       "min_width": null,
       "object_fit": null,
       "object_position": null,
       "order": null,
       "overflow": null,
       "overflow_x": null,
       "overflow_y": null,
       "padding": null,
       "right": null,
       "top": null,
       "visibility": null,
       "width": null
      }
     },
     "19771a140a7d4646906966b6ec6100d1": {
      "model_module": "@jupyter-widgets/controls",
      "model_module_version": "1.5.0",
      "model_name": "HBoxModel",
      "state": {
       "_dom_classes": [],
       "_model_module": "@jupyter-widgets/controls",
       "_model_module_version": "1.5.0",
       "_model_name": "HBoxModel",
       "_view_count": null,
       "_view_module": "@jupyter-widgets/controls",
       "_view_module_version": "1.5.0",
       "_view_name": "HBoxView",
       "box_style": "",
       "children": [
        "IPY_MODEL_783d5c9eb5a345618567c06f60fe6254",
        "IPY_MODEL_5f946387b0684fa08abfacfa261424ac",
        "IPY_MODEL_cde8f9977a7f4d818f852db0bc524778"
       ],
       "layout": "IPY_MODEL_970de2e40a2c4883ae51d33f8434559d"
      }
     },
     "199d3af17a994f06a0cd3463a6d5abb4": {
      "model_module": "@jupyter-widgets/controls",
      "model_module_version": "1.5.0",
      "model_name": "DescriptionStyleModel",
      "state": {
       "_model_module": "@jupyter-widgets/controls",
       "_model_module_version": "1.5.0",
       "_model_name": "DescriptionStyleModel",
       "_view_count": null,
       "_view_module": "@jupyter-widgets/base",
       "_view_module_version": "1.2.0",
       "_view_name": "StyleView",
       "description_width": ""
      }
     },
     "225b7338da0c4fcdae9792e75c7a2699": {
      "model_module": "@jupyter-widgets/base",
      "model_module_version": "1.2.0",
      "model_name": "LayoutModel",
      "state": {
       "_model_module": "@jupyter-widgets/base",
       "_model_module_version": "1.2.0",
       "_model_name": "LayoutModel",
       "_view_count": null,
       "_view_module": "@jupyter-widgets/base",
       "_view_module_version": "1.2.0",
       "_view_name": "LayoutView",
       "align_content": null,
       "align_items": null,
       "align_self": null,
       "border": null,
       "bottom": null,
       "display": null,
       "flex": null,
       "flex_flow": null,
       "grid_area": null,
       "grid_auto_columns": null,
       "grid_auto_flow": null,
       "grid_auto_rows": null,
       "grid_column": null,
       "grid_gap": null,
       "grid_row": null,
       "grid_template_areas": null,
       "grid_template_columns": null,
       "grid_template_rows": null,
       "height": null,
       "justify_content": null,
       "justify_items": null,
       "left": null,
       "margin": null,
       "max_height": null,
       "max_width": null,
       "min_height": null,
       "min_width": null,
       "object_fit": null,
       "object_position": null,
       "order": null,
       "overflow": null,
       "overflow_x": null,
       "overflow_y": null,
       "padding": null,
       "right": null,
       "top": null,
       "visibility": null,
       "width": null
      }
     },
     "2a72ef3c637b4e6f8d84b14c968fff20": {
      "model_module": "@jupyter-widgets/controls",
      "model_module_version": "1.5.0",
      "model_name": "HTMLModel",
      "state": {
       "_dom_classes": [],
       "_model_module": "@jupyter-widgets/controls",
       "_model_module_version": "1.5.0",
       "_model_name": "HTMLModel",
       "_view_count": null,
       "_view_module": "@jupyter-widgets/controls",
       "_view_module_version": "1.5.0",
       "_view_name": "HTMLView",
       "description": "",
       "description_tooltip": null,
       "layout": "IPY_MODEL_2d5faf5aed4c448e8a98f4265483fd76",
       "placeholder": "​",
       "style": "IPY_MODEL_17370b9b19b24a4aa40a39d058241272",
       "value": "Downloading: 100%"
      }
     },
     "2ab5ebc8b8754bc3885b6a3d5330718b": {
      "model_module": "@jupyter-widgets/controls",
      "model_module_version": "1.5.0",
      "model_name": "ProgressStyleModel",
      "state": {
       "_model_module": "@jupyter-widgets/controls",
       "_model_module_version": "1.5.0",
       "_model_name": "ProgressStyleModel",
       "_view_count": null,
       "_view_module": "@jupyter-widgets/base",
       "_view_module_version": "1.2.0",
       "_view_name": "StyleView",
       "bar_color": null,
       "description_width": ""
      }
     },
     "2c9ba8ede1784e0b8beb722a78c738e0": {
      "model_module": "@jupyter-widgets/controls",
      "model_module_version": "1.5.0",
      "model_name": "ProgressStyleModel",
      "state": {
       "_model_module": "@jupyter-widgets/controls",
       "_model_module_version": "1.5.0",
       "_model_name": "ProgressStyleModel",
       "_view_count": null,
       "_view_module": "@jupyter-widgets/base",
       "_view_module_version": "1.2.0",
       "_view_name": "StyleView",
       "bar_color": null,
       "description_width": ""
      }
     },
     "2d5faf5aed4c448e8a98f4265483fd76": {
      "model_module": "@jupyter-widgets/base",
      "model_module_version": "1.2.0",
      "model_name": "LayoutModel",
      "state": {
       "_model_module": "@jupyter-widgets/base",
       "_model_module_version": "1.2.0",
       "_model_name": "LayoutModel",
       "_view_count": null,
       "_view_module": "@jupyter-widgets/base",
       "_view_module_version": "1.2.0",
       "_view_name": "LayoutView",
       "align_content": null,
       "align_items": null,
       "align_self": null,
       "border": null,
       "bottom": null,
       "display": null,
       "flex": null,
       "flex_flow": null,
       "grid_area": null,
       "grid_auto_columns": null,
       "grid_auto_flow": null,
       "grid_auto_rows": null,
       "grid_column": null,
       "grid_gap": null,
       "grid_row": null,
       "grid_template_areas": null,
       "grid_template_columns": null,
       "grid_template_rows": null,
       "height": null,
       "justify_content": null,
       "justify_items": null,
       "left": null,
       "margin": null,
       "max_height": null,
       "max_width": null,
       "min_height": null,
       "min_width": null,
       "object_fit": null,
       "object_position": null,
       "order": null,
       "overflow": null,
       "overflow_x": null,
       "overflow_y": null,
       "padding": null,
       "right": null,
       "top": null,
       "visibility": null,
       "width": null
      }
     },
     "2d8de1c89758443da385eda53ca7c298": {
      "model_module": "@jupyter-widgets/controls",
      "model_module_version": "1.5.0",
      "model_name": "DescriptionStyleModel",
      "state": {
       "_model_module": "@jupyter-widgets/controls",
       "_model_module_version": "1.5.0",
       "_model_name": "DescriptionStyleModel",
       "_view_count": null,
       "_view_module": "@jupyter-widgets/base",
       "_view_module_version": "1.2.0",
       "_view_name": "StyleView",
       "description_width": ""
      }
     },
     "3a1a4b8115bd4f83a9da01f6468ab4c3": {
      "model_module": "@jupyter-widgets/base",
      "model_module_version": "1.2.0",
      "model_name": "LayoutModel",
      "state": {
       "_model_module": "@jupyter-widgets/base",
       "_model_module_version": "1.2.0",
       "_model_name": "LayoutModel",
       "_view_count": null,
       "_view_module": "@jupyter-widgets/base",
       "_view_module_version": "1.2.0",
       "_view_name": "LayoutView",
       "align_content": null,
       "align_items": null,
       "align_self": null,
       "border": null,
       "bottom": null,
       "display": null,
       "flex": null,
       "flex_flow": null,
       "grid_area": null,
       "grid_auto_columns": null,
       "grid_auto_flow": null,
       "grid_auto_rows": null,
       "grid_column": null,
       "grid_gap": null,
       "grid_row": null,
       "grid_template_areas": null,
       "grid_template_columns": null,
       "grid_template_rows": null,
       "height": null,
       "justify_content": null,
       "justify_items": null,
       "left": null,
       "margin": null,
       "max_height": null,
       "max_width": null,
       "min_height": null,
       "min_width": null,
       "object_fit": null,
       "object_position": null,
       "order": null,
       "overflow": null,
       "overflow_x": null,
       "overflow_y": null,
       "padding": null,
       "right": null,
       "top": null,
       "visibility": null,
       "width": null
      }
     },
     "3c4c46df7f28408bb70a44fb64c790a3": {
      "model_module": "@jupyter-widgets/controls",
      "model_module_version": "1.5.0",
      "model_name": "DescriptionStyleModel",
      "state": {
       "_model_module": "@jupyter-widgets/controls",
       "_model_module_version": "1.5.0",
       "_model_name": "DescriptionStyleModel",
       "_view_count": null,
       "_view_module": "@jupyter-widgets/base",
       "_view_module_version": "1.2.0",
       "_view_name": "StyleView",
       "description_width": ""
      }
     },
     "3d9d2f7b4d624f2982a2108762b820c3": {
      "model_module": "@jupyter-widgets/controls",
      "model_module_version": "1.5.0",
      "model_name": "DescriptionStyleModel",
      "state": {
       "_model_module": "@jupyter-widgets/controls",
       "_model_module_version": "1.5.0",
       "_model_name": "DescriptionStyleModel",
       "_view_count": null,
       "_view_module": "@jupyter-widgets/base",
       "_view_module_version": "1.2.0",
       "_view_name": "StyleView",
       "description_width": ""
      }
     },
     "454840c4434947f496538694d6bb8620": {
      "model_module": "@jupyter-widgets/controls",
      "model_module_version": "1.5.0",
      "model_name": "HBoxModel",
      "state": {
       "_dom_classes": [],
       "_model_module": "@jupyter-widgets/controls",
       "_model_module_version": "1.5.0",
       "_model_name": "HBoxModel",
       "_view_count": null,
       "_view_module": "@jupyter-widgets/controls",
       "_view_module_version": "1.5.0",
       "_view_name": "HBoxView",
       "box_style": "",
       "children": [
        "IPY_MODEL_c6ee082d9e0b411b818b9bf0c77011e4",
        "IPY_MODEL_c17d705aa909456e83dd90237e337d23",
        "IPY_MODEL_93a096a0e869436782f3e78c24934cc7"
       ],
       "layout": "IPY_MODEL_6811b04368b647cd957cd0962173c036"
      }
     },
     "4b1fe9ed26fc4a5681d8ad89ea7b80e3": {
      "model_module": "@jupyter-widgets/base",
      "model_module_version": "1.2.0",
      "model_name": "LayoutModel",
      "state": {
       "_model_module": "@jupyter-widgets/base",
       "_model_module_version": "1.2.0",
       "_model_name": "LayoutModel",
       "_view_count": null,
       "_view_module": "@jupyter-widgets/base",
       "_view_module_version": "1.2.0",
       "_view_name": "LayoutView",
       "align_content": null,
       "align_items": null,
       "align_self": null,
       "border": null,
       "bottom": null,
       "display": null,
       "flex": null,
       "flex_flow": null,
       "grid_area": null,
       "grid_auto_columns": null,
       "grid_auto_flow": null,
       "grid_auto_rows": null,
       "grid_column": null,
       "grid_gap": null,
       "grid_row": null,
       "grid_template_areas": null,
       "grid_template_columns": null,
       "grid_template_rows": null,
       "height": null,
       "justify_content": null,
       "justify_items": null,
       "left": null,
       "margin": null,
       "max_height": null,
       "max_width": null,
       "min_height": null,
       "min_width": null,
       "object_fit": null,
       "object_position": null,
       "order": null,
       "overflow": null,
       "overflow_x": null,
       "overflow_y": null,
       "padding": null,
       "right": null,
       "top": null,
       "visibility": null,
       "width": null
      }
     },
     "4c93243799b74f6c8bf7eec64aa6cb0c": {
      "model_module": "@jupyter-widgets/controls",
      "model_module_version": "1.5.0",
      "model_name": "ProgressStyleModel",
      "state": {
       "_model_module": "@jupyter-widgets/controls",
       "_model_module_version": "1.5.0",
       "_model_name": "ProgressStyleModel",
       "_view_count": null,
       "_view_module": "@jupyter-widgets/base",
       "_view_module_version": "1.2.0",
       "_view_name": "StyleView",
       "bar_color": null,
       "description_width": ""
      }
     },
     "503709c8ce1a4a6d85ab5fa549b0f784": {
      "model_module": "@jupyter-widgets/base",
      "model_module_version": "1.2.0",
      "model_name": "LayoutModel",
      "state": {
       "_model_module": "@jupyter-widgets/base",
       "_model_module_version": "1.2.0",
       "_model_name": "LayoutModel",
       "_view_count": null,
       "_view_module": "@jupyter-widgets/base",
       "_view_module_version": "1.2.0",
       "_view_name": "LayoutView",
       "align_content": null,
       "align_items": null,
       "align_self": null,
       "border": null,
       "bottom": null,
       "display": null,
       "flex": null,
       "flex_flow": null,
       "grid_area": null,
       "grid_auto_columns": null,
       "grid_auto_flow": null,
       "grid_auto_rows": null,
       "grid_column": null,
       "grid_gap": null,
       "grid_row": null,
       "grid_template_areas": null,
       "grid_template_columns": null,
       "grid_template_rows": null,
       "height": null,
       "justify_content": null,
       "justify_items": null,
       "left": null,
       "margin": null,
       "max_height": null,
       "max_width": null,
       "min_height": null,
       "min_width": null,
       "object_fit": null,
       "object_position": null,
       "order": null,
       "overflow": null,
       "overflow_x": null,
       "overflow_y": null,
       "padding": null,
       "right": null,
       "top": null,
       "visibility": null,
       "width": null
      }
     },
     "5096b9765f1c4733aa6b5cd20e1fa17d": {
      "model_module": "@jupyter-widgets/base",
      "model_module_version": "1.2.0",
      "model_name": "LayoutModel",
      "state": {
       "_model_module": "@jupyter-widgets/base",
       "_model_module_version": "1.2.0",
       "_model_name": "LayoutModel",
       "_view_count": null,
       "_view_module": "@jupyter-widgets/base",
       "_view_module_version": "1.2.0",
       "_view_name": "LayoutView",
       "align_content": null,
       "align_items": null,
       "align_self": null,
       "border": null,
       "bottom": null,
       "display": null,
       "flex": null,
       "flex_flow": null,
       "grid_area": null,
       "grid_auto_columns": null,
       "grid_auto_flow": null,
       "grid_auto_rows": null,
       "grid_column": null,
       "grid_gap": null,
       "grid_row": null,
       "grid_template_areas": null,
       "grid_template_columns": null,
       "grid_template_rows": null,
       "height": null,
       "justify_content": null,
       "justify_items": null,
       "left": null,
       "margin": null,
       "max_height": null,
       "max_width": null,
       "min_height": null,
       "min_width": null,
       "object_fit": null,
       "object_position": null,
       "order": null,
       "overflow": null,
       "overflow_x": null,
       "overflow_y": null,
       "padding": null,
       "right": null,
       "top": null,
       "visibility": null,
       "width": null
      }
     },
     "5390fe07f1624753bfbbc164b14cf259": {
      "model_module": "@jupyter-widgets/controls",
      "model_module_version": "1.5.0",
      "model_name": "FloatProgressModel",
      "state": {
       "_dom_classes": [],
       "_model_module": "@jupyter-widgets/controls",
       "_model_module_version": "1.5.0",
       "_model_name": "FloatProgressModel",
       "_view_count": null,
       "_view_module": "@jupyter-widgets/controls",
       "_view_module_version": "1.5.0",
       "_view_name": "ProgressView",
       "bar_style": "success",
       "description": "",
       "description_tooltip": null,
       "layout": "IPY_MODEL_174ae6925d30463fbd3c7fb305b6c8cc",
       "max": 506,
       "min": 0,
       "orientation": "horizontal",
       "style": "IPY_MODEL_c76b3e12a1e1450cbd63cb664c22e924",
       "value": 506
      }
     },
     "5c8a102a6ce6415895ff0669e365812c": {
      "model_module": "@jupyter-widgets/controls",
      "model_module_version": "1.5.0",
      "model_name": "ProgressStyleModel",
      "state": {
       "_model_module": "@jupyter-widgets/controls",
       "_model_module_version": "1.5.0",
       "_model_name": "ProgressStyleModel",
       "_view_count": null,
       "_view_module": "@jupyter-widgets/base",
       "_view_module_version": "1.2.0",
       "_view_name": "StyleView",
       "bar_color": null,
       "description_width": ""
      }
     },
     "5db89932852d4283a229355c8678e9ab": {
      "model_module": "@jupyter-widgets/controls",
      "model_module_version": "1.5.0",
      "model_name": "DescriptionStyleModel",
      "state": {
       "_model_module": "@jupyter-widgets/controls",
       "_model_module_version": "1.5.0",
       "_model_name": "DescriptionStyleModel",
       "_view_count": null,
       "_view_module": "@jupyter-widgets/base",
       "_view_module_version": "1.2.0",
       "_view_name": "StyleView",
       "description_width": ""
      }
     },
     "5e0c2e1611fc4c7fb738cf13ea997d1b": {
      "model_module": "@jupyter-widgets/controls",
      "model_module_version": "1.5.0",
      "model_name": "DescriptionStyleModel",
      "state": {
       "_model_module": "@jupyter-widgets/controls",
       "_model_module_version": "1.5.0",
       "_model_name": "DescriptionStyleModel",
       "_view_count": null,
       "_view_module": "@jupyter-widgets/base",
       "_view_module_version": "1.2.0",
       "_view_name": "StyleView",
       "description_width": ""
      }
     },
     "5ea0302cd9bf4783a5fd08eb920ef906": {
      "model_module": "@jupyter-widgets/controls",
      "model_module_version": "1.5.0",
      "model_name": "DescriptionStyleModel",
      "state": {
       "_model_module": "@jupyter-widgets/controls",
       "_model_module_version": "1.5.0",
       "_model_name": "DescriptionStyleModel",
       "_view_count": null,
       "_view_module": "@jupyter-widgets/base",
       "_view_module_version": "1.2.0",
       "_view_name": "StyleView",
       "description_width": ""
      }
     },
     "5f946387b0684fa08abfacfa261424ac": {
      "model_module": "@jupyter-widgets/controls",
      "model_module_version": "1.5.0",
      "model_name": "FloatProgressModel",
      "state": {
       "_dom_classes": [],
       "_model_module": "@jupyter-widgets/controls",
       "_model_module_version": "1.5.0",
       "_model_name": "FloatProgressModel",
       "_view_count": null,
       "_view_module": "@jupyter-widgets/controls",
       "_view_module_version": "1.5.0",
       "_view_name": "ProgressView",
       "bar_style": "success",
       "description": "",
       "description_tooltip": null,
       "layout": "IPY_MODEL_897659af94e4437d970314197a85db17",
       "max": 800013,
       "min": 0,
       "orientation": "horizontal",
       "style": "IPY_MODEL_a3b082e46e194c00adc9fa9b26d566cd",
       "value": 800013
      }
     },
     "634674a80dd24d01874b32c79ed6aac6": {
      "model_module": "@jupyter-widgets/controls",
      "model_module_version": "1.5.0",
      "model_name": "FloatProgressModel",
      "state": {
       "_dom_classes": [],
       "_model_module": "@jupyter-widgets/controls",
       "_model_module_version": "1.5.0",
       "_model_name": "FloatProgressModel",
       "_view_count": null,
       "_view_module": "@jupyter-widgets/controls",
       "_view_module_version": "1.5.0",
       "_view_name": "ProgressView",
       "bar_style": "success",
       "description": "",
       "description_tooltip": null,
       "layout": "IPY_MODEL_812418a8688c44a0ab3f3b44eb227250",
       "max": 298,
       "min": 0,
       "orientation": "horizontal",
       "style": "IPY_MODEL_4c93243799b74f6c8bf7eec64aa6cb0c",
       "value": 298
      }
     },
     "63b59858b8e6436599be7a7f6b0a92bd": {
      "model_module": "@jupyter-widgets/base",
      "model_module_version": "1.2.0",
      "model_name": "LayoutModel",
      "state": {
       "_model_module": "@jupyter-widgets/base",
       "_model_module_version": "1.2.0",
       "_model_name": "LayoutModel",
       "_view_count": null,
       "_view_module": "@jupyter-widgets/base",
       "_view_module_version": "1.2.0",
       "_view_name": "LayoutView",
       "align_content": null,
       "align_items": null,
       "align_self": null,
       "border": null,
       "bottom": null,
       "display": null,
       "flex": null,
       "flex_flow": null,
       "grid_area": null,
       "grid_auto_columns": null,
       "grid_auto_flow": null,
       "grid_auto_rows": null,
       "grid_column": null,
       "grid_gap": null,
       "grid_row": null,
       "grid_template_areas": null,
       "grid_template_columns": null,
       "grid_template_rows": null,
       "height": null,
       "justify_content": null,
       "justify_items": null,
       "left": null,
       "margin": null,
       "max_height": null,
       "max_width": null,
       "min_height": null,
       "min_width": null,
       "object_fit": null,
       "object_position": null,
       "order": null,
       "overflow": null,
       "overflow_x": null,
       "overflow_y": null,
       "padding": null,
       "right": null,
       "top": null,
       "visibility": null,
       "width": null
      }
     },
     "677625b6b9524c2b8157fc1a7c57edf3": {
      "model_module": "@jupyter-widgets/base",
      "model_module_version": "1.2.0",
      "model_name": "LayoutModel",
      "state": {
       "_model_module": "@jupyter-widgets/base",
       "_model_module_version": "1.2.0",
       "_model_name": "LayoutModel",
       "_view_count": null,
       "_view_module": "@jupyter-widgets/base",
       "_view_module_version": "1.2.0",
       "_view_name": "LayoutView",
       "align_content": null,
       "align_items": null,
       "align_self": null,
       "border": null,
       "bottom": null,
       "display": null,
       "flex": null,
       "flex_flow": null,
       "grid_area": null,
       "grid_auto_columns": null,
       "grid_auto_flow": null,
       "grid_auto_rows": null,
       "grid_column": null,
       "grid_gap": null,
       "grid_row": null,
       "grid_template_areas": null,
       "grid_template_columns": null,
       "grid_template_rows": null,
       "height": null,
       "justify_content": null,
       "justify_items": null,
       "left": null,
       "margin": null,
       "max_height": null,
       "max_width": null,
       "min_height": null,
       "min_width": null,
       "object_fit": null,
       "object_position": null,
       "order": null,
       "overflow": null,
       "overflow_x": null,
       "overflow_y": null,
       "padding": null,
       "right": null,
       "top": null,
       "visibility": null,
       "width": null
      }
     },
     "6811b04368b647cd957cd0962173c036": {
      "model_module": "@jupyter-widgets/base",
      "model_module_version": "1.2.0",
      "model_name": "LayoutModel",
      "state": {
       "_model_module": "@jupyter-widgets/base",
       "_model_module_version": "1.2.0",
       "_model_name": "LayoutModel",
       "_view_count": null,
       "_view_module": "@jupyter-widgets/base",
       "_view_module_version": "1.2.0",
       "_view_name": "LayoutView",
       "align_content": null,
       "align_items": null,
       "align_self": null,
       "border": null,
       "bottom": null,
       "display": null,
       "flex": null,
       "flex_flow": null,
       "grid_area": null,
       "grid_auto_columns": null,
       "grid_auto_flow": null,
       "grid_auto_rows": null,
       "grid_column": null,
       "grid_gap": null,
       "grid_row": null,
       "grid_template_areas": null,
       "grid_template_columns": null,
       "grid_template_rows": null,
       "height": null,
       "justify_content": null,
       "justify_items": null,
       "left": null,
       "margin": null,
       "max_height": null,
       "max_width": null,
       "min_height": null,
       "min_width": null,
       "object_fit": null,
       "object_position": null,
       "order": null,
       "overflow": null,
       "overflow_x": null,
       "overflow_y": null,
       "padding": null,
       "right": null,
       "top": null,
       "visibility": null,
       "width": null
      }
     },
     "70b496db3b9c4c6ab6429595adedc3ac": {
      "model_module": "@jupyter-widgets/controls",
      "model_module_version": "1.5.0",
      "model_name": "HTMLModel",
      "state": {
       "_dom_classes": [],
       "_model_module": "@jupyter-widgets/controls",
       "_model_module_version": "1.5.0",
       "_model_name": "HTMLModel",
       "_view_count": null,
       "_view_module": "@jupyter-widgets/controls",
       "_view_module_version": "1.5.0",
       "_view_name": "HTMLView",
       "description": "",
       "description_tooltip": null,
       "layout": "IPY_MODEL_3a1a4b8115bd4f83a9da01f6468ab4c3",
       "placeholder": "​",
       "style": "IPY_MODEL_5e0c2e1611fc4c7fb738cf13ea997d1b",
       "value": "Downloading: 100%"
      }
     },
     "71c20c30a987486d8d5300be63f3cb29": {
      "model_module": "@jupyter-widgets/controls",
      "model_module_version": "1.5.0",
      "model_name": "HBoxModel",
      "state": {
       "_dom_classes": [],
       "_model_module": "@jupyter-widgets/controls",
       "_model_module_version": "1.5.0",
       "_model_name": "HBoxModel",
       "_view_count": null,
       "_view_module": "@jupyter-widgets/controls",
       "_view_module_version": "1.5.0",
       "_view_name": "HBoxView",
       "box_style": "",
       "children": [
        "IPY_MODEL_f7a9d9e52b3b4ceca0c96605e69895e1",
        "IPY_MODEL_794ada1ce954488bbc5f1d43214b9784",
        "IPY_MODEL_13d84515270b4cb296001c1ea142733a"
       ],
       "layout": "IPY_MODEL_991a4cb72ad846e980ed5d16ba943e25"
      }
     },
     "73b8b54eae074243a192441e56af811d": {
      "model_module": "@jupyter-widgets/controls",
      "model_module_version": "1.5.0",
      "model_name": "HBoxModel",
      "state": {
       "_dom_classes": [],
       "_model_module": "@jupyter-widgets/controls",
       "_model_module_version": "1.5.0",
       "_model_name": "HBoxModel",
       "_view_count": null,
       "_view_module": "@jupyter-widgets/controls",
       "_view_module_version": "1.5.0",
       "_view_name": "HBoxView",
       "box_style": "",
       "children": [
        "IPY_MODEL_2a72ef3c637b4e6f8d84b14c968fff20",
        "IPY_MODEL_634674a80dd24d01874b32c79ed6aac6",
        "IPY_MODEL_f7e50d18a37440139ad51c14b652b3c2"
       ],
       "layout": "IPY_MODEL_07a74c440caf4f83a9d5c074f8a7aaac"
      }
     },
     "74f75f936f8f4586baf7589c10e09aef": {
      "model_module": "@jupyter-widgets/base",
      "model_module_version": "1.2.0",
      "model_name": "LayoutModel",
      "state": {
       "_model_module": "@jupyter-widgets/base",
       "_model_module_version": "1.2.0",
       "_model_name": "LayoutModel",
       "_view_count": null,
       "_view_module": "@jupyter-widgets/base",
       "_view_module_version": "1.2.0",
       "_view_name": "LayoutView",
       "align_content": null,
       "align_items": null,
       "align_self": null,
       "border": null,
       "bottom": null,
       "display": null,
       "flex": null,
       "flex_flow": null,
       "grid_area": null,
       "grid_auto_columns": null,
       "grid_auto_flow": null,
       "grid_auto_rows": null,
       "grid_column": null,
       "grid_gap": null,
       "grid_row": null,
       "grid_template_areas": null,
       "grid_template_columns": null,
       "grid_template_rows": null,
       "height": null,
       "justify_content": null,
       "justify_items": null,
       "left": null,
       "margin": null,
       "max_height": null,
       "max_width": null,
       "min_height": null,
       "min_width": null,
       "object_fit": null,
       "object_position": null,
       "order": null,
       "overflow": null,
       "overflow_x": null,
       "overflow_y": null,
       "padding": null,
       "right": null,
       "top": null,
       "visibility": null,
       "width": null
      }
     },
     "75397b9b6d8c422f936d24d045e09d75": {
      "model_module": "@jupyter-widgets/controls",
      "model_module_version": "1.5.0",
      "model_name": "DescriptionStyleModel",
      "state": {
       "_model_module": "@jupyter-widgets/controls",
       "_model_module_version": "1.5.0",
       "_model_name": "DescriptionStyleModel",
       "_view_count": null,
       "_view_module": "@jupyter-widgets/base",
       "_view_module_version": "1.2.0",
       "_view_name": "StyleView",
       "description_width": ""
      }
     },
     "783d5c9eb5a345618567c06f60fe6254": {
      "model_module": "@jupyter-widgets/controls",
      "model_module_version": "1.5.0",
      "model_name": "HTMLModel",
      "state": {
       "_dom_classes": [],
       "_model_module": "@jupyter-widgets/controls",
       "_model_module_version": "1.5.0",
       "_model_name": "HTMLModel",
       "_view_count": null,
       "_view_module": "@jupyter-widgets/controls",
       "_view_module_version": "1.5.0",
       "_view_name": "HTMLView",
       "description": "",
       "description_tooltip": null,
       "layout": "IPY_MODEL_677625b6b9524c2b8157fc1a7c57edf3",
       "placeholder": "​",
       "style": "IPY_MODEL_5db89932852d4283a229355c8678e9ab",
       "value": "Downloading: 100%"
      }
     },
     "784a588485eb43a4b0c780d056521b97": {
      "model_module": "@jupyter-widgets/controls",
      "model_module_version": "1.5.0",
      "model_name": "HTMLModel",
      "state": {
       "_dom_classes": [],
       "_model_module": "@jupyter-widgets/controls",
       "_model_module_version": "1.5.0",
       "_model_name": "HTMLModel",
       "_view_count": null,
       "_view_module": "@jupyter-widgets/controls",
       "_view_module_version": "1.5.0",
       "_view_name": "HTMLView",
       "description": "",
       "description_tooltip": null,
       "layout": "IPY_MODEL_225b7338da0c4fcdae9792e75c7a2699",
       "placeholder": "​",
       "style": "IPY_MODEL_3c4c46df7f28408bb70a44fb64c790a3",
       "value": "Downloading: 100%"
      }
     },
     "794ada1ce954488bbc5f1d43214b9784": {
      "model_module": "@jupyter-widgets/controls",
      "model_module_version": "1.5.0",
      "model_name": "FloatProgressModel",
      "state": {
       "_dom_classes": [],
       "_model_module": "@jupyter-widgets/controls",
       "_model_module_version": "1.5.0",
       "_model_name": "FloatProgressModel",
       "_view_count": null,
       "_view_module": "@jupyter-widgets/controls",
       "_view_module_version": "1.5.0",
       "_view_name": "ProgressView",
       "bar_style": "success",
       "description": "",
       "description_tooltip": null,
       "layout": "IPY_MODEL_cc0a181bab924fa49ce559b4cbce4fbf",
       "max": 1649312,
       "min": 0,
       "orientation": "horizontal",
       "style": "IPY_MODEL_2c9ba8ede1784e0b8beb722a78c738e0",
       "value": 1649312
      }
     },
     "812418a8688c44a0ab3f3b44eb227250": {
      "model_module": "@jupyter-widgets/base",
      "model_module_version": "1.2.0",
      "model_name": "LayoutModel",
      "state": {
       "_model_module": "@jupyter-widgets/base",
       "_model_module_version": "1.2.0",
       "_model_name": "LayoutModel",
       "_view_count": null,
       "_view_module": "@jupyter-widgets/base",
       "_view_module_version": "1.2.0",
       "_view_name": "LayoutView",
       "align_content": null,
       "align_items": null,
       "align_self": null,
       "border": null,
       "bottom": null,
       "display": null,
       "flex": null,
       "flex_flow": null,
       "grid_area": null,
       "grid_auto_columns": null,
       "grid_auto_flow": null,
       "grid_auto_rows": null,
       "grid_column": null,
       "grid_gap": null,
       "grid_row": null,
       "grid_template_areas": null,
       "grid_template_columns": null,
       "grid_template_rows": null,
       "height": null,
       "justify_content": null,
       "justify_items": null,
       "left": null,
       "margin": null,
       "max_height": null,
       "max_width": null,
       "min_height": null,
       "min_width": null,
       "object_fit": null,
       "object_position": null,
       "order": null,
       "overflow": null,
       "overflow_x": null,
       "overflow_y": null,
       "padding": null,
       "right": null,
       "top": null,
       "visibility": null,
       "width": null
      }
     },
     "897659af94e4437d970314197a85db17": {
      "model_module": "@jupyter-widgets/base",
      "model_module_version": "1.2.0",
      "model_name": "LayoutModel",
      "state": {
       "_model_module": "@jupyter-widgets/base",
       "_model_module_version": "1.2.0",
       "_model_name": "LayoutModel",
       "_view_count": null,
       "_view_module": "@jupyter-widgets/base",
       "_view_module_version": "1.2.0",
       "_view_name": "LayoutView",
       "align_content": null,
       "align_items": null,
       "align_self": null,
       "border": null,
       "bottom": null,
       "display": null,
       "flex": null,
       "flex_flow": null,
       "grid_area": null,
       "grid_auto_columns": null,
       "grid_auto_flow": null,
       "grid_auto_rows": null,
       "grid_column": null,
       "grid_gap": null,
       "grid_row": null,
       "grid_template_areas": null,
       "grid_template_columns": null,
       "grid_template_rows": null,
       "height": null,
       "justify_content": null,
       "justify_items": null,
       "left": null,
       "margin": null,
       "max_height": null,
       "max_width": null,
       "min_height": null,
       "min_width": null,
       "object_fit": null,
       "object_position": null,
       "order": null,
       "overflow": null,
       "overflow_x": null,
       "overflow_y": null,
       "padding": null,
       "right": null,
       "top": null,
       "visibility": null,
       "width": null
      }
     },
     "8c72a499e377401e92df03ed12e6b422": {
      "model_module": "@jupyter-widgets/base",
      "model_module_version": "1.2.0",
      "model_name": "LayoutModel",
      "state": {
       "_model_module": "@jupyter-widgets/base",
       "_model_module_version": "1.2.0",
       "_model_name": "LayoutModel",
       "_view_count": null,
       "_view_module": "@jupyter-widgets/base",
       "_view_module_version": "1.2.0",
       "_view_name": "LayoutView",
       "align_content": null,
       "align_items": null,
       "align_self": null,
       "border": null,
       "bottom": null,
       "display": null,
       "flex": null,
       "flex_flow": null,
       "grid_area": null,
       "grid_auto_columns": null,
       "grid_auto_flow": null,
       "grid_auto_rows": null,
       "grid_column": null,
       "grid_gap": null,
       "grid_row": null,
       "grid_template_areas": null,
       "grid_template_columns": null,
       "grid_template_rows": null,
       "height": null,
       "justify_content": null,
       "justify_items": null,
       "left": null,
       "margin": null,
       "max_height": null,
       "max_width": null,
       "min_height": null,
       "min_width": null,
       "object_fit": null,
       "object_position": null,
       "order": null,
       "overflow": null,
       "overflow_x": null,
       "overflow_y": null,
       "padding": null,
       "right": null,
       "top": null,
       "visibility": null,
       "width": null
      }
     },
     "93a096a0e869436782f3e78c24934cc7": {
      "model_module": "@jupyter-widgets/controls",
      "model_module_version": "1.5.0",
      "model_name": "HTMLModel",
      "state": {
       "_dom_classes": [],
       "_model_module": "@jupyter-widgets/controls",
       "_model_module_version": "1.5.0",
       "_model_name": "HTMLModel",
       "_view_count": null,
       "_view_module": "@jupyter-widgets/controls",
       "_view_module_version": "1.5.0",
       "_view_name": "HTMLView",
       "description": "",
       "description_tooltip": null,
       "layout": "IPY_MODEL_4b1fe9ed26fc4a5681d8ad89ea7b80e3",
       "placeholder": "​",
       "style": "IPY_MODEL_5ea0302cd9bf4783a5fd08eb920ef906",
       "value": " 520/520 [00:00&lt;00:00, 18.9kB/s]"
      }
     },
     "93d789889cac44888553fb60fee60ab4": {
      "model_module": "@jupyter-widgets/base",
      "model_module_version": "1.2.0",
      "model_name": "LayoutModel",
      "state": {
       "_model_module": "@jupyter-widgets/base",
       "_model_module_version": "1.2.0",
       "_model_name": "LayoutModel",
       "_view_count": null,
       "_view_module": "@jupyter-widgets/base",
       "_view_module_version": "1.2.0",
       "_view_name": "LayoutView",
       "align_content": null,
       "align_items": null,
       "align_self": null,
       "border": null,
       "bottom": null,
       "display": null,
       "flex": null,
       "flex_flow": null,
       "grid_area": null,
       "grid_auto_columns": null,
       "grid_auto_flow": null,
       "grid_auto_rows": null,
       "grid_column": null,
       "grid_gap": null,
       "grid_row": null,
       "grid_template_areas": null,
       "grid_template_columns": null,
       "grid_template_rows": null,
       "height": null,
       "justify_content": null,
       "justify_items": null,
       "left": null,
       "margin": null,
       "max_height": null,
       "max_width": null,
       "min_height": null,
       "min_width": null,
       "object_fit": null,
       "object_position": null,
       "order": null,
       "overflow": null,
       "overflow_x": null,
       "overflow_y": null,
       "padding": null,
       "right": null,
       "top": null,
       "visibility": null,
       "width": null
      }
     },
     "970de2e40a2c4883ae51d33f8434559d": {
      "model_module": "@jupyter-widgets/base",
      "model_module_version": "1.2.0",
      "model_name": "LayoutModel",
      "state": {
       "_model_module": "@jupyter-widgets/base",
       "_model_module_version": "1.2.0",
       "_model_name": "LayoutModel",
       "_view_count": null,
       "_view_module": "@jupyter-widgets/base",
       "_view_module_version": "1.2.0",
       "_view_name": "LayoutView",
       "align_content": null,
       "align_items": null,
       "align_self": null,
       "border": null,
       "bottom": null,
       "display": null,
       "flex": null,
       "flex_flow": null,
       "grid_area": null,
       "grid_auto_columns": null,
       "grid_auto_flow": null,
       "grid_auto_rows": null,
       "grid_column": null,
       "grid_gap": null,
       "grid_row": null,
       "grid_template_areas": null,
       "grid_template_columns": null,
       "grid_template_rows": null,
       "height": null,
       "justify_content": null,
       "justify_items": null,
       "left": null,
       "margin": null,
       "max_height": null,
       "max_width": null,
       "min_height": null,
       "min_width": null,
       "object_fit": null,
       "object_position": null,
       "order": null,
       "overflow": null,
       "overflow_x": null,
       "overflow_y": null,
       "padding": null,
       "right": null,
       "top": null,
       "visibility": null,
       "width": null
      }
     },
     "97b4d65061b848e1b8b2855c61220c0d": {
      "model_module": "@jupyter-widgets/controls",
      "model_module_version": "1.5.0",
      "model_name": "HTMLModel",
      "state": {
       "_dom_classes": [],
       "_model_module": "@jupyter-widgets/controls",
       "_model_module_version": "1.5.0",
       "_model_name": "HTMLModel",
       "_view_count": null,
       "_view_module": "@jupyter-widgets/controls",
       "_view_module_version": "1.5.0",
       "_view_name": "HTMLView",
       "description": "",
       "description_tooltip": null,
       "layout": "IPY_MODEL_feff10901f7f4b53ad56d86d7f1b7c79",
       "placeholder": "​",
       "style": "IPY_MODEL_9bc960bdff0b48dc9f8d768223e30c9f",
       "value": " 422M/422M [00:37&lt;00:00, 12.6MB/s]"
      }
     },
     "97dc6ab1f9ee480b88a7f81a17113523": {
      "model_module": "@jupyter-widgets/base",
      "model_module_version": "1.2.0",
      "model_name": "LayoutModel",
      "state": {
       "_model_module": "@jupyter-widgets/base",
       "_model_module_version": "1.2.0",
       "_model_name": "LayoutModel",
       "_view_count": null,
       "_view_module": "@jupyter-widgets/base",
       "_view_module_version": "1.2.0",
       "_view_name": "LayoutView",
       "align_content": null,
       "align_items": null,
       "align_self": null,
       "border": null,
       "bottom": null,
       "display": null,
       "flex": null,
       "flex_flow": null,
       "grid_area": null,
       "grid_auto_columns": null,
       "grid_auto_flow": null,
       "grid_auto_rows": null,
       "grid_column": null,
       "grid_gap": null,
       "grid_row": null,
       "grid_template_areas": null,
       "grid_template_columns": null,
       "grid_template_rows": null,
       "height": null,
       "justify_content": null,
       "justify_items": null,
       "left": null,
       "margin": null,
       "max_height": null,
       "max_width": null,
       "min_height": null,
       "min_width": null,
       "object_fit": null,
       "object_position": null,
       "order": null,
       "overflow": null,
       "overflow_x": null,
       "overflow_y": null,
       "padding": null,
       "right": null,
       "top": null,
       "visibility": null,
       "width": null
      }
     },
     "991a4cb72ad846e980ed5d16ba943e25": {
      "model_module": "@jupyter-widgets/base",
      "model_module_version": "1.2.0",
      "model_name": "LayoutModel",
      "state": {
       "_model_module": "@jupyter-widgets/base",
       "_model_module_version": "1.2.0",
       "_model_name": "LayoutModel",
       "_view_count": null,
       "_view_module": "@jupyter-widgets/base",
       "_view_module_version": "1.2.0",
       "_view_name": "LayoutView",
       "align_content": null,
       "align_items": null,
       "align_self": null,
       "border": null,
       "bottom": null,
       "display": null,
       "flex": null,
       "flex_flow": null,
       "grid_area": null,
       "grid_auto_columns": null,
       "grid_auto_flow": null,
       "grid_auto_rows": null,
       "grid_column": null,
       "grid_gap": null,
       "grid_row": null,
       "grid_template_areas": null,
       "grid_template_columns": null,
       "grid_template_rows": null,
       "height": null,
       "justify_content": null,
       "justify_items": null,
       "left": null,
       "margin": null,
       "max_height": null,
       "max_width": null,
       "min_height": null,
       "min_width": null,
       "object_fit": null,
       "object_position": null,
       "order": null,
       "overflow": null,
       "overflow_x": null,
       "overflow_y": null,
       "padding": null,
       "right": null,
       "top": null,
       "visibility": null,
       "width": null
      }
     },
     "9a39bb8e0f694a86b459a25338225187": {
      "model_module": "@jupyter-widgets/controls",
      "model_module_version": "1.5.0",
      "model_name": "HTMLModel",
      "state": {
       "_dom_classes": [],
       "_model_module": "@jupyter-widgets/controls",
       "_model_module_version": "1.5.0",
       "_model_name": "HTMLModel",
       "_view_count": null,
       "_view_module": "@jupyter-widgets/controls",
       "_view_module_version": "1.5.0",
       "_view_name": "HTMLView",
       "description": "",
       "description_tooltip": null,
       "layout": "IPY_MODEL_503709c8ce1a4a6d85ab5fa549b0f784",
       "placeholder": "​",
       "style": "IPY_MODEL_c1d95fe123fb46ef9ab95561eb55779e",
       "value": " 506/506 [00:00&lt;00:00, 18.7kB/s]"
      }
     },
     "9bc960bdff0b48dc9f8d768223e30c9f": {
      "model_module": "@jupyter-widgets/controls",
      "model_module_version": "1.5.0",
      "model_name": "DescriptionStyleModel",
      "state": {
       "_model_module": "@jupyter-widgets/controls",
       "_model_module_version": "1.5.0",
       "_model_name": "DescriptionStyleModel",
       "_view_count": null,
       "_view_module": "@jupyter-widgets/base",
       "_view_module_version": "1.2.0",
       "_view_name": "StyleView",
       "description_width": ""
      }
     },
     "a3b082e46e194c00adc9fa9b26d566cd": {
      "model_module": "@jupyter-widgets/controls",
      "model_module_version": "1.5.0",
      "model_name": "ProgressStyleModel",
      "state": {
       "_model_module": "@jupyter-widgets/controls",
       "_model_module_version": "1.5.0",
       "_model_name": "ProgressStyleModel",
       "_view_count": null,
       "_view_module": "@jupyter-widgets/base",
       "_view_module_version": "1.2.0",
       "_view_name": "StyleView",
       "bar_color": null,
       "description_width": ""
      }
     },
     "b78eb2e1df334ccb8710dd8c2cc96a8b": {
      "model_module": "@jupyter-widgets/base",
      "model_module_version": "1.2.0",
      "model_name": "LayoutModel",
      "state": {
       "_model_module": "@jupyter-widgets/base",
       "_model_module_version": "1.2.0",
       "_model_name": "LayoutModel",
       "_view_count": null,
       "_view_module": "@jupyter-widgets/base",
       "_view_module_version": "1.2.0",
       "_view_name": "LayoutView",
       "align_content": null,
       "align_items": null,
       "align_self": null,
       "border": null,
       "bottom": null,
       "display": null,
       "flex": null,
       "flex_flow": null,
       "grid_area": null,
       "grid_auto_columns": null,
       "grid_auto_flow": null,
       "grid_auto_rows": null,
       "grid_column": null,
       "grid_gap": null,
       "grid_row": null,
       "grid_template_areas": null,
       "grid_template_columns": null,
       "grid_template_rows": null,
       "height": null,
       "justify_content": null,
       "justify_items": null,
       "left": null,
       "margin": null,
       "max_height": null,
       "max_width": null,
       "min_height": null,
       "min_width": null,
       "object_fit": null,
       "object_position": null,
       "order": null,
       "overflow": null,
       "overflow_x": null,
       "overflow_y": null,
       "padding": null,
       "right": null,
       "top": null,
       "visibility": null,
       "width": null
      }
     },
     "c17d705aa909456e83dd90237e337d23": {
      "model_module": "@jupyter-widgets/controls",
      "model_module_version": "1.5.0",
      "model_name": "FloatProgressModel",
      "state": {
       "_dom_classes": [],
       "_model_module": "@jupyter-widgets/controls",
       "_model_module_version": "1.5.0",
       "_model_name": "FloatProgressModel",
       "_view_count": null,
       "_view_module": "@jupyter-widgets/controls",
       "_view_module_version": "1.5.0",
       "_view_name": "ProgressView",
       "bar_style": "success",
       "description": "",
       "description_tooltip": null,
       "layout": "IPY_MODEL_8c72a499e377401e92df03ed12e6b422",
       "max": 520,
       "min": 0,
       "orientation": "horizontal",
       "style": "IPY_MODEL_5c8a102a6ce6415895ff0669e365812c",
       "value": 520
      }
     },
     "c1d95fe123fb46ef9ab95561eb55779e": {
      "model_module": "@jupyter-widgets/controls",
      "model_module_version": "1.5.0",
      "model_name": "DescriptionStyleModel",
      "state": {
       "_model_module": "@jupyter-widgets/controls",
       "_model_module_version": "1.5.0",
       "_model_name": "DescriptionStyleModel",
       "_view_count": null,
       "_view_module": "@jupyter-widgets/base",
       "_view_module_version": "1.2.0",
       "_view_name": "StyleView",
       "description_width": ""
      }
     },
     "c6ee082d9e0b411b818b9bf0c77011e4": {
      "model_module": "@jupyter-widgets/controls",
      "model_module_version": "1.5.0",
      "model_name": "HTMLModel",
      "state": {
       "_dom_classes": [],
       "_model_module": "@jupyter-widgets/controls",
       "_model_module_version": "1.5.0",
       "_model_name": "HTMLModel",
       "_view_count": null,
       "_view_module": "@jupyter-widgets/controls",
       "_view_module_version": "1.5.0",
       "_view_name": "HTMLView",
       "description": "",
       "description_tooltip": null,
       "layout": "IPY_MODEL_74f75f936f8f4586baf7589c10e09aef",
       "placeholder": "​",
       "style": "IPY_MODEL_199d3af17a994f06a0cd3463a6d5abb4",
       "value": "Downloading: 100%"
      }
     },
     "c76b3e12a1e1450cbd63cb664c22e924": {
      "model_module": "@jupyter-widgets/controls",
      "model_module_version": "1.5.0",
      "model_name": "ProgressStyleModel",
      "state": {
       "_model_module": "@jupyter-widgets/controls",
       "_model_module_version": "1.5.0",
       "_model_name": "ProgressStyleModel",
       "_view_count": null,
       "_view_module": "@jupyter-widgets/base",
       "_view_module_version": "1.2.0",
       "_view_name": "StyleView",
       "bar_color": null,
       "description_width": ""
      }
     },
     "c957f5afb01c4eabb1aefda8e3204391": {
      "model_module": "@jupyter-widgets/controls",
      "model_module_version": "1.5.0",
      "model_name": "FloatProgressModel",
      "state": {
       "_dom_classes": [],
       "_model_module": "@jupyter-widgets/controls",
       "_model_module_version": "1.5.0",
       "_model_name": "FloatProgressModel",
       "_view_count": null,
       "_view_module": "@jupyter-widgets/controls",
       "_view_module_version": "1.5.0",
       "_view_name": "ProgressView",
       "bar_style": "success",
       "description": "",
       "description_tooltip": null,
       "layout": "IPY_MODEL_123840d2d5424f13b65496b6f211db46",
       "max": 442838427,
       "min": 0,
       "orientation": "horizontal",
       "style": "IPY_MODEL_2ab5ebc8b8754bc3885b6a3d5330718b",
       "value": 442838427
      }
     },
     "cc0a181bab924fa49ce559b4cbce4fbf": {
      "model_module": "@jupyter-widgets/base",
      "model_module_version": "1.2.0",
      "model_name": "LayoutModel",
      "state": {
       "_model_module": "@jupyter-widgets/base",
       "_model_module_version": "1.2.0",
       "_model_name": "LayoutModel",
       "_view_count": null,
       "_view_module": "@jupyter-widgets/base",
       "_view_module_version": "1.2.0",
       "_view_name": "LayoutView",
       "align_content": null,
       "align_items": null,
       "align_self": null,
       "border": null,
       "bottom": null,
       "display": null,
       "flex": null,
       "flex_flow": null,
       "grid_area": null,
       "grid_auto_columns": null,
       "grid_auto_flow": null,
       "grid_auto_rows": null,
       "grid_column": null,
       "grid_gap": null,
       "grid_row": null,
       "grid_template_areas": null,
       "grid_template_columns": null,
       "grid_template_rows": null,
       "height": null,
       "justify_content": null,
       "justify_items": null,
       "left": null,
       "margin": null,
       "max_height": null,
       "max_width": null,
       "min_height": null,
       "min_width": null,
       "object_fit": null,
       "object_position": null,
       "order": null,
       "overflow": null,
       "overflow_x": null,
       "overflow_y": null,
       "padding": null,
       "right": null,
       "top": null,
       "visibility": null,
       "width": null
      }
     },
     "cc2702d1d3d5457c8fa5f18372ac7618": {
      "model_module": "@jupyter-widgets/controls",
      "model_module_version": "1.5.0",
      "model_name": "HBoxModel",
      "state": {
       "_dom_classes": [],
       "_model_module": "@jupyter-widgets/controls",
       "_model_module_version": "1.5.0",
       "_model_name": "HBoxModel",
       "_view_count": null,
       "_view_module": "@jupyter-widgets/controls",
       "_view_module_version": "1.5.0",
       "_view_name": "HBoxView",
       "box_style": "",
       "children": [
        "IPY_MODEL_70b496db3b9c4c6ab6429595adedc3ac",
        "IPY_MODEL_c957f5afb01c4eabb1aefda8e3204391",
        "IPY_MODEL_97b4d65061b848e1b8b2855c61220c0d"
       ],
       "layout": "IPY_MODEL_63b59858b8e6436599be7a7f6b0a92bd"
      }
     },
     "cde8f9977a7f4d818f852db0bc524778": {
      "model_module": "@jupyter-widgets/controls",
      "model_module_version": "1.5.0",
      "model_name": "HTMLModel",
      "state": {
       "_dom_classes": [],
       "_model_module": "@jupyter-widgets/controls",
       "_model_module_version": "1.5.0",
       "_model_name": "HTMLModel",
       "_view_count": null,
       "_view_module": "@jupyter-widgets/controls",
       "_view_module_version": "1.5.0",
       "_view_name": "HTMLView",
       "description": "",
       "description_tooltip": null,
       "layout": "IPY_MODEL_e53f28ec670146be95917eff96659940",
       "placeholder": "​",
       "style": "IPY_MODEL_75397b9b6d8c422f936d24d045e09d75",
       "value": " 781k/781k [00:01&lt;00:00, 1.14MB/s]"
      }
     },
     "d336fe5a74114039bd2628187171624c": {
      "model_module": "@jupyter-widgets/controls",
      "model_module_version": "1.5.0",
      "model_name": "DescriptionStyleModel",
      "state": {
       "_model_module": "@jupyter-widgets/controls",
       "_model_module_version": "1.5.0",
       "_model_name": "DescriptionStyleModel",
       "_view_count": null,
       "_view_module": "@jupyter-widgets/base",
       "_view_module_version": "1.2.0",
       "_view_name": "StyleView",
       "description_width": ""
      }
     },
     "d6b3a9363eaa478bbbfd23b89622e40a": {
      "model_module": "@jupyter-widgets/controls",
      "model_module_version": "1.5.0",
      "model_name": "HBoxModel",
      "state": {
       "_dom_classes": [],
       "_model_module": "@jupyter-widgets/controls",
       "_model_module_version": "1.5.0",
       "_model_name": "HBoxModel",
       "_view_count": null,
       "_view_module": "@jupyter-widgets/controls",
       "_view_module_version": "1.5.0",
       "_view_name": "HBoxView",
       "box_style": "",
       "children": [
        "IPY_MODEL_784a588485eb43a4b0c780d056521b97",
        "IPY_MODEL_5390fe07f1624753bfbbc164b14cf259",
        "IPY_MODEL_9a39bb8e0f694a86b459a25338225187"
       ],
       "layout": "IPY_MODEL_5096b9765f1c4733aa6b5cd20e1fa17d"
      }
     },
     "e53f28ec670146be95917eff96659940": {
      "model_module": "@jupyter-widgets/base",
      "model_module_version": "1.2.0",
      "model_name": "LayoutModel",
      "state": {
       "_model_module": "@jupyter-widgets/base",
       "_model_module_version": "1.2.0",
       "_model_name": "LayoutModel",
       "_view_count": null,
       "_view_module": "@jupyter-widgets/base",
       "_view_module_version": "1.2.0",
       "_view_name": "LayoutView",
       "align_content": null,
       "align_items": null,
       "align_self": null,
       "border": null,
       "bottom": null,
       "display": null,
       "flex": null,
       "flex_flow": null,
       "grid_area": null,
       "grid_auto_columns": null,
       "grid_auto_flow": null,
       "grid_auto_rows": null,
       "grid_column": null,
       "grid_gap": null,
       "grid_row": null,
       "grid_template_areas": null,
       "grid_template_columns": null,
       "grid_template_rows": null,
       "height": null,
       "justify_content": null,
       "justify_items": null,
       "left": null,
       "margin": null,
       "max_height": null,
       "max_width": null,
       "min_height": null,
       "min_width": null,
       "object_fit": null,
       "object_position": null,
       "order": null,
       "overflow": null,
       "overflow_x": null,
       "overflow_y": null,
       "padding": null,
       "right": null,
       "top": null,
       "visibility": null,
       "width": null
      }
     },
     "f7a9d9e52b3b4ceca0c96605e69895e1": {
      "model_module": "@jupyter-widgets/controls",
      "model_module_version": "1.5.0",
      "model_name": "HTMLModel",
      "state": {
       "_dom_classes": [],
       "_model_module": "@jupyter-widgets/controls",
       "_model_module_version": "1.5.0",
       "_model_name": "HTMLModel",
       "_view_count": null,
       "_view_module": "@jupyter-widgets/controls",
       "_view_module_version": "1.5.0",
       "_view_name": "HTMLView",
       "description": "",
       "description_tooltip": null,
       "layout": "IPY_MODEL_97dc6ab1f9ee480b88a7f81a17113523",
       "placeholder": "​",
       "style": "IPY_MODEL_3d9d2f7b4d624f2982a2108762b820c3",
       "value": "Downloading: 100%"
      }
     },
     "f7e50d18a37440139ad51c14b652b3c2": {
      "model_module": "@jupyter-widgets/controls",
      "model_module_version": "1.5.0",
      "model_name": "HTMLModel",
      "state": {
       "_dom_classes": [],
       "_model_module": "@jupyter-widgets/controls",
       "_model_module_version": "1.5.0",
       "_model_name": "HTMLModel",
       "_view_count": null,
       "_view_module": "@jupyter-widgets/controls",
       "_view_module_version": "1.5.0",
       "_view_name": "HTMLView",
       "description": "",
       "description_tooltip": null,
       "layout": "IPY_MODEL_93d789889cac44888553fb60fee60ab4",
       "placeholder": "​",
       "style": "IPY_MODEL_2d8de1c89758443da385eda53ca7c298",
       "value": " 298/298 [00:00&lt;00:00, 9.84kB/s]"
      }
     },
     "feff10901f7f4b53ad56d86d7f1b7c79": {
      "model_module": "@jupyter-widgets/base",
      "model_module_version": "1.2.0",
      "model_name": "LayoutModel",
      "state": {
       "_model_module": "@jupyter-widgets/base",
       "_model_module_version": "1.2.0",
       "_model_name": "LayoutModel",
       "_view_count": null,
       "_view_module": "@jupyter-widgets/base",
       "_view_module_version": "1.2.0",
       "_view_name": "LayoutView",
       "align_content": null,
       "align_items": null,
       "align_self": null,
       "border": null,
       "bottom": null,
       "display": null,
       "flex": null,
       "flex_flow": null,
       "grid_area": null,
       "grid_auto_columns": null,
       "grid_auto_flow": null,
       "grid_auto_rows": null,
       "grid_column": null,
       "grid_gap": null,
       "grid_row": null,
       "grid_template_areas": null,
       "grid_template_columns": null,
       "grid_template_rows": null,
       "height": null,
       "justify_content": null,
       "justify_items": null,
       "left": null,
       "margin": null,
       "max_height": null,
       "max_width": null,
       "min_height": null,
       "min_width": null,
       "object_fit": null,
       "object_position": null,
       "order": null,
       "overflow": null,
       "overflow_x": null,
       "overflow_y": null,
       "padding": null,
       "right": null,
       "top": null,
       "visibility": null,
       "width": null
      }
     }
    },
    "version_major": 2,
    "version_minor": 0
   }
  }
 },
 "nbformat": 4,
 "nbformat_minor": 5
}
